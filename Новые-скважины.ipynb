{
 "cells": [
  {
   "cell_type": "markdown",
   "id": "c8b7deda",
   "metadata": {},
   "source": [
    "<h1>Новые скважины"
   ]
  },
  {
   "cell_type": "markdown",
   "id": "62ae2b29",
   "metadata": {},
   "source": [
    "**Описание проекта:**\n",
    "\n",
    "Допустим, вы работаете в добывающей компании «ГлавРосГосНефть». Нужно решить, где бурить новую скважину. Вам предоставлены пробы нефти в трёх регионах: в каждом 10 000 месторождений, где измерили качество нефти и объём её запасов. \n",
    "\n",
    "**Цель проекта:**\n",
    "\n",
    "Построить модель машинного обучения, которая поможет определить регион, где добыча принесёт наибольшую прибыль. \n",
    "\n",
    "**Условия задачи:**\n",
    "- Для обучения модели подходит только линейная регрессия (остальные — недостаточно предсказуемые)\n",
    "- При разведке региона исследуют 500 точек, из которых с помощью машинного обучения выбирают 200 лучших для разработки\n",
    "- Бюджет на разработку скважин в регионе — 10 млрд рублей\n",
    "- При нынешних ценах один баррель сырья приносит 450 рублей дохода. Доход с каждой единицы продукта составляет 450 тыс. рублей, поскольку объём указан в тысячах баррелей\n",
    "- После оценки рисков нужно оставить лишь те регионы, в которых вероятность убытков меньше 2.5%. Среди них выбирают регион с наибольшей средней прибылью\n",
    "\n",
    "**Этапы проекта**\n",
    "\n",
    "1. [Обзор данных](#1)\n",
    "2. [Подготовка данных](#2)\n",
    "3. [Подготовка к расчёту прибыли](#3)\n",
    "4. [Расчёт прибыли по выбранным скважинам и предсказаниям модели](#4)\n",
    "5. [Риски и прибыль](#5)\n",
    "6. [Выводы](#6)"
   ]
  },
  {
   "cell_type": "markdown",
   "id": "b8579991",
   "metadata": {},
   "source": [
    "<a id='1'></a>"
   ]
  },
  {
   "cell_type": "markdown",
   "id": "4c13f27a",
   "metadata": {},
   "source": [
    "<h2> Обзор данных"
   ]
  },
  {
   "cell_type": "markdown",
   "id": "91345b3f",
   "metadata": {},
   "source": [
    "Импортируем необходимые библиотеки для будущей работы. Считаем данные из csv-файлов, сохраним в переменные и изучим их.\n",
    "\n",
    "Пути к файлам: \n",
    "\n",
    "- `/datasets/geo_data_0.csv`\n",
    "- `/datasets/geo_data_1.csv`\n",
    "- `/datasets/geo_data_2.csv`"
   ]
  },
  {
   "cell_type": "code",
   "execution_count": 1,
   "id": "b27e9758",
   "metadata": {},
   "outputs": [],
   "source": [
    "# импорты из стандартной библиотеки\n",
    "import warnings\n",
    "\n",
    "# импорты сторонних библиотек\n",
    "import pandas as pd\n",
    "import numpy as np\n",
    "import seaborn as sns\n",
    "import matplotlib.pyplot as plt\n",
    "\n",
    "# импорты модулей текущего проекта\n",
    "from math import sqrt\n",
    "from sklearn.model_selection import train_test_split\n",
    "from sklearn.preprocessing import StandardScaler\n",
    "from sklearn.linear_model import LinearRegression\n",
    "from sklearn.pipeline import make_pipeline\n",
    "from sklearn.metrics import mean_squared_error\n",
    "\n",
    "# настройки\n",
    "warnings.filterwarnings('ignore')\n",
    "\n",
    "#константа\n",
    "RANDOM_STATE = np.random.RandomState(12345)"
   ]
  },
  {
   "cell_type": "code",
   "execution_count": 2,
   "id": "fb5881c0",
   "metadata": {},
   "outputs": [],
   "source": [
    "# константы для задачи\n",
    "POINTS = 500  # всего точек для исследования\n",
    "BEST_POINTS = 200  # всего лучших точек\n",
    "BUDGET = 10e9  # бюджет на разработку скважин, млрд.руб\n",
    "UNIT_BARREL = 450e3  # доход с единицы продукта, тыс.руб"
   ]
  },
  {
   "cell_type": "code",
   "execution_count": 3,
   "id": "322c4a64",
   "metadata": {},
   "outputs": [],
   "source": [
    "try:\n",
    "    df1 = pd.read_csv('C:\\jupyter projects\\geo_data_0.csv')\n",
    "    df2 = pd.read_csv('C:\\jupyter projects\\geo_data_1.csv')\n",
    "    df3 = pd.read_csv('C:\\jupyter projects\\geo_data_2.csv')\n",
    "    sns.set_style('darkgrid')\n",
    "except:\n",
    "    df1 = pd.read_csv('/datasets/geo_data_0.csv')\n",
    "    df2 = pd.read_csv('/datasets/geo_data_1.csv')\n",
    "    df3 = pd.read_csv('/datasets/geo_data_2.csv')\n",
    "    sns.set_style('darkgrid')"
   ]
  },
  {
   "cell_type": "code",
   "execution_count": 4,
   "id": "a948c175",
   "metadata": {},
   "outputs": [],
   "source": [
    "names = ['Регион 1', 'Регион 2', 'Регион 3']\n",
    "colors = {'Регион 1':'#A18594', 'Регион 2':'#FFB28B', 'Регион 3':'#AFCBFF'}\n",
    "\n",
    "\n",
    "# функция для вывода информации о данных\n",
    "def df_info(df, name):\n",
    "    print(f'\\033[1m{name}\\033[0m')\n",
    "    display(df.head())\n",
    "    print('_' * 60, '\\n')\n",
    "    print(f'\\nДлина датасета: {len(df)} \\nРазмер датасета: {df.shape}')\n",
    "    print('Количество явных дубликатов:', df.duplicated().sum())\n",
    "    print('Количество неявных дубликатов по id:', df['id'].duplicated(keep=False).sum())\n",
    "    print('Количество пропущенных значений:\\n', df.isna().sum(), '\\n')\n",
    "    display(df.info())\n",
    "    print('_' * 60, '\\n')\n",
    "    display(df.describe())\n",
    "    print('_' * 60, '\\n')\n",
    "    display(df.corr().style.background_gradient(cmap='coolwarm'))\n",
    "    fig, ax = plt.subplots(2 , 2, figsize=(10,6))\n",
    "    df.hist(figsize=(12,7), layout=(2,2), color=colors[name], bins=20, ax=ax)\n",
    "    plt.suptitle(name)"
   ]
  },
  {
   "cell_type": "code",
   "execution_count": 5,
   "id": "ca0b5472",
   "metadata": {},
   "outputs": [
    {
     "name": "stdout",
     "output_type": "stream",
     "text": [
      "\u001b[1mРегион 1\u001b[0m\n"
     ]
    },
    {
     "data": {
      "text/html": [
       "<div>\n",
       "<style scoped>\n",
       "    .dataframe tbody tr th:only-of-type {\n",
       "        vertical-align: middle;\n",
       "    }\n",
       "\n",
       "    .dataframe tbody tr th {\n",
       "        vertical-align: top;\n",
       "    }\n",
       "\n",
       "    .dataframe thead th {\n",
       "        text-align: right;\n",
       "    }\n",
       "</style>\n",
       "<table border=\"1\" class=\"dataframe\">\n",
       "  <thead>\n",
       "    <tr style=\"text-align: right;\">\n",
       "      <th></th>\n",
       "      <th>id</th>\n",
       "      <th>f0</th>\n",
       "      <th>f1</th>\n",
       "      <th>f2</th>\n",
       "      <th>product</th>\n",
       "    </tr>\n",
       "  </thead>\n",
       "  <tbody>\n",
       "    <tr>\n",
       "      <th>0</th>\n",
       "      <td>txEyH</td>\n",
       "      <td>0.705745</td>\n",
       "      <td>-0.497823</td>\n",
       "      <td>1.221170</td>\n",
       "      <td>105.280062</td>\n",
       "    </tr>\n",
       "    <tr>\n",
       "      <th>1</th>\n",
       "      <td>2acmU</td>\n",
       "      <td>1.334711</td>\n",
       "      <td>-0.340164</td>\n",
       "      <td>4.365080</td>\n",
       "      <td>73.037750</td>\n",
       "    </tr>\n",
       "    <tr>\n",
       "      <th>2</th>\n",
       "      <td>409Wp</td>\n",
       "      <td>1.022732</td>\n",
       "      <td>0.151990</td>\n",
       "      <td>1.419926</td>\n",
       "      <td>85.265647</td>\n",
       "    </tr>\n",
       "    <tr>\n",
       "      <th>3</th>\n",
       "      <td>iJLyR</td>\n",
       "      <td>-0.032172</td>\n",
       "      <td>0.139033</td>\n",
       "      <td>2.978566</td>\n",
       "      <td>168.620776</td>\n",
       "    </tr>\n",
       "    <tr>\n",
       "      <th>4</th>\n",
       "      <td>Xdl7t</td>\n",
       "      <td>1.988431</td>\n",
       "      <td>0.155413</td>\n",
       "      <td>4.751769</td>\n",
       "      <td>154.036647</td>\n",
       "    </tr>\n",
       "  </tbody>\n",
       "</table>\n",
       "</div>"
      ],
      "text/plain": [
       "      id        f0        f1        f2     product\n",
       "0  txEyH  0.705745 -0.497823  1.221170  105.280062\n",
       "1  2acmU  1.334711 -0.340164  4.365080   73.037750\n",
       "2  409Wp  1.022732  0.151990  1.419926   85.265647\n",
       "3  iJLyR -0.032172  0.139033  2.978566  168.620776\n",
       "4  Xdl7t  1.988431  0.155413  4.751769  154.036647"
      ]
     },
     "metadata": {},
     "output_type": "display_data"
    },
    {
     "name": "stdout",
     "output_type": "stream",
     "text": [
      "____________________________________________________________ \n",
      "\n",
      "\n",
      "Длина датасета: 100000 \n",
      "Размер датасета: (100000, 5)\n",
      "Количество явных дубликатов: 0\n",
      "Количество неявных дубликатов по id: 20\n",
      "Количество пропущенных значений:\n",
      " id         0\n",
      "f0         0\n",
      "f1         0\n",
      "f2         0\n",
      "product    0\n",
      "dtype: int64 \n",
      "\n",
      "<class 'pandas.core.frame.DataFrame'>\n",
      "RangeIndex: 100000 entries, 0 to 99999\n",
      "Data columns (total 5 columns):\n",
      " #   Column   Non-Null Count   Dtype  \n",
      "---  ------   --------------   -----  \n",
      " 0   id       100000 non-null  object \n",
      " 1   f0       100000 non-null  float64\n",
      " 2   f1       100000 non-null  float64\n",
      " 3   f2       100000 non-null  float64\n",
      " 4   product  100000 non-null  float64\n",
      "dtypes: float64(4), object(1)\n",
      "memory usage: 3.8+ MB\n"
     ]
    },
    {
     "data": {
      "text/plain": [
       "None"
      ]
     },
     "metadata": {},
     "output_type": "display_data"
    },
    {
     "name": "stdout",
     "output_type": "stream",
     "text": [
      "____________________________________________________________ \n",
      "\n"
     ]
    },
    {
     "data": {
      "text/html": [
       "<div>\n",
       "<style scoped>\n",
       "    .dataframe tbody tr th:only-of-type {\n",
       "        vertical-align: middle;\n",
       "    }\n",
       "\n",
       "    .dataframe tbody tr th {\n",
       "        vertical-align: top;\n",
       "    }\n",
       "\n",
       "    .dataframe thead th {\n",
       "        text-align: right;\n",
       "    }\n",
       "</style>\n",
       "<table border=\"1\" class=\"dataframe\">\n",
       "  <thead>\n",
       "    <tr style=\"text-align: right;\">\n",
       "      <th></th>\n",
       "      <th>f0</th>\n",
       "      <th>f1</th>\n",
       "      <th>f2</th>\n",
       "      <th>product</th>\n",
       "    </tr>\n",
       "  </thead>\n",
       "  <tbody>\n",
       "    <tr>\n",
       "      <th>count</th>\n",
       "      <td>100000.000000</td>\n",
       "      <td>100000.000000</td>\n",
       "      <td>100000.000000</td>\n",
       "      <td>100000.000000</td>\n",
       "    </tr>\n",
       "    <tr>\n",
       "      <th>mean</th>\n",
       "      <td>0.500419</td>\n",
       "      <td>0.250143</td>\n",
       "      <td>2.502647</td>\n",
       "      <td>92.500000</td>\n",
       "    </tr>\n",
       "    <tr>\n",
       "      <th>std</th>\n",
       "      <td>0.871832</td>\n",
       "      <td>0.504433</td>\n",
       "      <td>3.248248</td>\n",
       "      <td>44.288691</td>\n",
       "    </tr>\n",
       "    <tr>\n",
       "      <th>min</th>\n",
       "      <td>-1.408605</td>\n",
       "      <td>-0.848218</td>\n",
       "      <td>-12.088328</td>\n",
       "      <td>0.000000</td>\n",
       "    </tr>\n",
       "    <tr>\n",
       "      <th>25%</th>\n",
       "      <td>-0.072580</td>\n",
       "      <td>-0.200881</td>\n",
       "      <td>0.287748</td>\n",
       "      <td>56.497507</td>\n",
       "    </tr>\n",
       "    <tr>\n",
       "      <th>50%</th>\n",
       "      <td>0.502360</td>\n",
       "      <td>0.250252</td>\n",
       "      <td>2.515969</td>\n",
       "      <td>91.849972</td>\n",
       "    </tr>\n",
       "    <tr>\n",
       "      <th>75%</th>\n",
       "      <td>1.073581</td>\n",
       "      <td>0.700646</td>\n",
       "      <td>4.715088</td>\n",
       "      <td>128.564089</td>\n",
       "    </tr>\n",
       "    <tr>\n",
       "      <th>max</th>\n",
       "      <td>2.362331</td>\n",
       "      <td>1.343769</td>\n",
       "      <td>16.003790</td>\n",
       "      <td>185.364347</td>\n",
       "    </tr>\n",
       "  </tbody>\n",
       "</table>\n",
       "</div>"
      ],
      "text/plain": [
       "                  f0             f1             f2        product\n",
       "count  100000.000000  100000.000000  100000.000000  100000.000000\n",
       "mean        0.500419       0.250143       2.502647      92.500000\n",
       "std         0.871832       0.504433       3.248248      44.288691\n",
       "min        -1.408605      -0.848218     -12.088328       0.000000\n",
       "25%        -0.072580      -0.200881       0.287748      56.497507\n",
       "50%         0.502360       0.250252       2.515969      91.849972\n",
       "75%         1.073581       0.700646       4.715088     128.564089\n",
       "max         2.362331       1.343769      16.003790     185.364347"
      ]
     },
     "metadata": {},
     "output_type": "display_data"
    },
    {
     "name": "stdout",
     "output_type": "stream",
     "text": [
      "____________________________________________________________ \n",
      "\n"
     ]
    },
    {
     "data": {
      "text/html": [
       "<style  type=\"text/css\" >\n",
       "#T_d2c94_row0_col0,#T_d2c94_row1_col1,#T_d2c94_row2_col2,#T_d2c94_row3_col3{\n",
       "            background-color:  #b40426;\n",
       "            color:  #f1f1f1;\n",
       "        }#T_d2c94_row0_col1,#T_d2c94_row0_col2,#T_d2c94_row1_col0,#T_d2c94_row1_col3{\n",
       "            background-color:  #3b4cc0;\n",
       "            color:  #f1f1f1;\n",
       "        }#T_d2c94_row0_col3{\n",
       "            background-color:  #98b9ff;\n",
       "            color:  #000000;\n",
       "        }#T_d2c94_row1_col2{\n",
       "            background-color:  #3c4ec2;\n",
       "            color:  #f1f1f1;\n",
       "        }#T_d2c94_row2_col0{\n",
       "            background-color:  #9fbfff;\n",
       "            color:  #000000;\n",
       "        }#T_d2c94_row2_col1{\n",
       "            background-color:  #a1c0ff;\n",
       "            color:  #000000;\n",
       "        }#T_d2c94_row2_col3{\n",
       "            background-color:  #edd2c3;\n",
       "            color:  #000000;\n",
       "        }#T_d2c94_row3_col0{\n",
       "            background-color:  #c1d4f4;\n",
       "            color:  #000000;\n",
       "        }#T_d2c94_row3_col1{\n",
       "            background-color:  #7295f4;\n",
       "            color:  #000000;\n",
       "        }#T_d2c94_row3_col2{\n",
       "            background-color:  #d9dce1;\n",
       "            color:  #000000;\n",
       "        }</style><table id=\"T_d2c94_\" ><thead>    <tr>        <th class=\"blank level0\" ></th>        <th class=\"col_heading level0 col0\" >f0</th>        <th class=\"col_heading level0 col1\" >f1</th>        <th class=\"col_heading level0 col2\" >f2</th>        <th class=\"col_heading level0 col3\" >product</th>    </tr></thead><tbody>\n",
       "                <tr>\n",
       "                        <th id=\"T_d2c94_level0_row0\" class=\"row_heading level0 row0\" >f0</th>\n",
       "                        <td id=\"T_d2c94_row0_col0\" class=\"data row0 col0\" >1.000000</td>\n",
       "                        <td id=\"T_d2c94_row0_col1\" class=\"data row0 col1\" >-0.440723</td>\n",
       "                        <td id=\"T_d2c94_row0_col2\" class=\"data row0 col2\" >-0.003153</td>\n",
       "                        <td id=\"T_d2c94_row0_col3\" class=\"data row0 col3\" >0.143536</td>\n",
       "            </tr>\n",
       "            <tr>\n",
       "                        <th id=\"T_d2c94_level0_row1\" class=\"row_heading level0 row1\" >f1</th>\n",
       "                        <td id=\"T_d2c94_row1_col0\" class=\"data row1 col0\" >-0.440723</td>\n",
       "                        <td id=\"T_d2c94_row1_col1\" class=\"data row1 col1\" >1.000000</td>\n",
       "                        <td id=\"T_d2c94_row1_col2\" class=\"data row1 col2\" >0.001724</td>\n",
       "                        <td id=\"T_d2c94_row1_col3\" class=\"data row1 col3\" >-0.192356</td>\n",
       "            </tr>\n",
       "            <tr>\n",
       "                        <th id=\"T_d2c94_level0_row2\" class=\"row_heading level0 row2\" >f2</th>\n",
       "                        <td id=\"T_d2c94_row2_col0\" class=\"data row2 col0\" >-0.003153</td>\n",
       "                        <td id=\"T_d2c94_row2_col1\" class=\"data row2 col1\" >0.001724</td>\n",
       "                        <td id=\"T_d2c94_row2_col2\" class=\"data row2 col2\" >1.000000</td>\n",
       "                        <td id=\"T_d2c94_row2_col3\" class=\"data row2 col3\" >0.483663</td>\n",
       "            </tr>\n",
       "            <tr>\n",
       "                        <th id=\"T_d2c94_level0_row3\" class=\"row_heading level0 row3\" >product</th>\n",
       "                        <td id=\"T_d2c94_row3_col0\" class=\"data row3 col0\" >0.143536</td>\n",
       "                        <td id=\"T_d2c94_row3_col1\" class=\"data row3 col1\" >-0.192356</td>\n",
       "                        <td id=\"T_d2c94_row3_col2\" class=\"data row3 col2\" >0.483663</td>\n",
       "                        <td id=\"T_d2c94_row3_col3\" class=\"data row3 col3\" >1.000000</td>\n",
       "            </tr>\n",
       "    </tbody></table>"
      ],
      "text/plain": [
       "<pandas.io.formats.style.Styler at 0x17ead03bac0>"
      ]
     },
     "metadata": {},
     "output_type": "display_data"
    },
    {
     "data": {
      "image/png": "[encoded data removed]",
      "text/plain": [
       "<Figure size 1000x600 with 4 Axes>"
      ]
     },
     "metadata": {},
     "output_type": "display_data"
    }
   ],
   "source": [
    "df_info(df1, names[0])"
   ]
  },
  {
   "cell_type": "code",
   "execution_count": 6,
   "id": "87b4f618",
   "metadata": {},
   "outputs": [
    {
     "name": "stdout",
     "output_type": "stream",
     "text": [
      "\u001b[1mРегион 2\u001b[0m\n"
     ]
    },
    {
     "data": {
      "text/html": [
       "<div>\n",
       "<style scoped>\n",
       "    .dataframe tbody tr th:only-of-type {\n",
       "        vertical-align: middle;\n",
       "    }\n",
       "\n",
       "    .dataframe tbody tr th {\n",
       "        vertical-align: top;\n",
       "    }\n",
       "\n",
       "    .dataframe thead th {\n",
       "        text-align: right;\n",
       "    }\n",
       "</style>\n",
       "<table border=\"1\" class=\"dataframe\">\n",
       "  <thead>\n",
       "    <tr style=\"text-align: right;\">\n",
       "      <th></th>\n",
       "      <th>id</th>\n",
       "      <th>f0</th>\n",
       "      <th>f1</th>\n",
       "      <th>f2</th>\n",
       "      <th>product</th>\n",
       "    </tr>\n",
       "  </thead>\n",
       "  <tbody>\n",
       "    <tr>\n",
       "      <th>0</th>\n",
       "      <td>kBEdx</td>\n",
       "      <td>-15.001348</td>\n",
       "      <td>-8.276000</td>\n",
       "      <td>-0.005876</td>\n",
       "      <td>3.179103</td>\n",
       "    </tr>\n",
       "    <tr>\n",
       "      <th>1</th>\n",
       "      <td>62mP7</td>\n",
       "      <td>14.272088</td>\n",
       "      <td>-3.475083</td>\n",
       "      <td>0.999183</td>\n",
       "      <td>26.953261</td>\n",
       "    </tr>\n",
       "    <tr>\n",
       "      <th>2</th>\n",
       "      <td>vyE1P</td>\n",
       "      <td>6.263187</td>\n",
       "      <td>-5.948386</td>\n",
       "      <td>5.001160</td>\n",
       "      <td>134.766305</td>\n",
       "    </tr>\n",
       "    <tr>\n",
       "      <th>3</th>\n",
       "      <td>KcrkZ</td>\n",
       "      <td>-13.081196</td>\n",
       "      <td>-11.506057</td>\n",
       "      <td>4.999415</td>\n",
       "      <td>137.945408</td>\n",
       "    </tr>\n",
       "    <tr>\n",
       "      <th>4</th>\n",
       "      <td>AHL4O</td>\n",
       "      <td>12.702195</td>\n",
       "      <td>-8.147433</td>\n",
       "      <td>5.004363</td>\n",
       "      <td>134.766305</td>\n",
       "    </tr>\n",
       "  </tbody>\n",
       "</table>\n",
       "</div>"
      ],
      "text/plain": [
       "      id         f0         f1        f2     product\n",
       "0  kBEdx -15.001348  -8.276000 -0.005876    3.179103\n",
       "1  62mP7  14.272088  -3.475083  0.999183   26.953261\n",
       "2  vyE1P   6.263187  -5.948386  5.001160  134.766305\n",
       "3  KcrkZ -13.081196 -11.506057  4.999415  137.945408\n",
       "4  AHL4O  12.702195  -8.147433  5.004363  134.766305"
      ]
     },
     "metadata": {},
     "output_type": "display_data"
    },
    {
     "name": "stdout",
     "output_type": "stream",
     "text": [
      "____________________________________________________________ \n",
      "\n",
      "\n",
      "Длина датасета: 100000 \n",
      "Размер датасета: (100000, 5)\n",
      "Количество явных дубликатов: 0\n",
      "Количество неявных дубликатов по id: 8\n",
      "Количество пропущенных значений:\n",
      " id         0\n",
      "f0         0\n",
      "f1         0\n",
      "f2         0\n",
      "product    0\n",
      "dtype: int64 \n",
      "\n",
      "<class 'pandas.core.frame.DataFrame'>\n",
      "RangeIndex: 100000 entries, 0 to 99999\n",
      "Data columns (total 5 columns):\n",
      " #   Column   Non-Null Count   Dtype  \n",
      "---  ------   --------------   -----  \n",
      " 0   id       100000 non-null  object \n",
      " 1   f0       100000 non-null  float64\n",
      " 2   f1       100000 non-null  float64\n",
      " 3   f2       100000 non-null  float64\n",
      " 4   product  100000 non-null  float64\n",
      "dtypes: float64(4), object(1)\n",
      "memory usage: 3.8+ MB\n"
     ]
    },
    {
     "data": {
      "text/plain": [
       "None"
      ]
     },
     "metadata": {},
     "output_type": "display_data"
    },
    {
     "name": "stdout",
     "output_type": "stream",
     "text": [
      "____________________________________________________________ \n",
      "\n"
     ]
    },
    {
     "data": {
      "text/html": [
       "<div>\n",
       "<style scoped>\n",
       "    .dataframe tbody tr th:only-of-type {\n",
       "        vertical-align: middle;\n",
       "    }\n",
       "\n",
       "    .dataframe tbody tr th {\n",
       "        vertical-align: top;\n",
       "    }\n",
       "\n",
       "    .dataframe thead th {\n",
       "        text-align: right;\n",
       "    }\n",
       "</style>\n",
       "<table border=\"1\" class=\"dataframe\">\n",
       "  <thead>\n",
       "    <tr style=\"text-align: right;\">\n",
       "      <th></th>\n",
       "      <th>f0</th>\n",
       "      <th>f1</th>\n",
       "      <th>f2</th>\n",
       "      <th>product</th>\n",
       "    </tr>\n",
       "  </thead>\n",
       "  <tbody>\n",
       "    <tr>\n",
       "      <th>count</th>\n",
       "      <td>100000.000000</td>\n",
       "      <td>100000.000000</td>\n",
       "      <td>100000.000000</td>\n",
       "      <td>100000.000000</td>\n",
       "    </tr>\n",
       "    <tr>\n",
       "      <th>mean</th>\n",
       "      <td>1.141296</td>\n",
       "      <td>-4.796579</td>\n",
       "      <td>2.494541</td>\n",
       "      <td>68.825000</td>\n",
       "    </tr>\n",
       "    <tr>\n",
       "      <th>std</th>\n",
       "      <td>8.965932</td>\n",
       "      <td>5.119872</td>\n",
       "      <td>1.703572</td>\n",
       "      <td>45.944423</td>\n",
       "    </tr>\n",
       "    <tr>\n",
       "      <th>min</th>\n",
       "      <td>-31.609576</td>\n",
       "      <td>-26.358598</td>\n",
       "      <td>-0.018144</td>\n",
       "      <td>0.000000</td>\n",
       "    </tr>\n",
       "    <tr>\n",
       "      <th>25%</th>\n",
       "      <td>-6.298551</td>\n",
       "      <td>-8.267985</td>\n",
       "      <td>1.000021</td>\n",
       "      <td>26.953261</td>\n",
       "    </tr>\n",
       "    <tr>\n",
       "      <th>50%</th>\n",
       "      <td>1.153055</td>\n",
       "      <td>-4.813172</td>\n",
       "      <td>2.011479</td>\n",
       "      <td>57.085625</td>\n",
       "    </tr>\n",
       "    <tr>\n",
       "      <th>75%</th>\n",
       "      <td>8.621015</td>\n",
       "      <td>-1.332816</td>\n",
       "      <td>3.999904</td>\n",
       "      <td>107.813044</td>\n",
       "    </tr>\n",
       "    <tr>\n",
       "      <th>max</th>\n",
       "      <td>29.421755</td>\n",
       "      <td>18.734063</td>\n",
       "      <td>5.019721</td>\n",
       "      <td>137.945408</td>\n",
       "    </tr>\n",
       "  </tbody>\n",
       "</table>\n",
       "</div>"
      ],
      "text/plain": [
       "                  f0             f1             f2        product\n",
       "count  100000.000000  100000.000000  100000.000000  100000.000000\n",
       "mean        1.141296      -4.796579       2.494541      68.825000\n",
       "std         8.965932       5.119872       1.703572      45.944423\n",
       "min       -31.609576     -26.358598      -0.018144       0.000000\n",
       "25%        -6.298551      -8.267985       1.000021      26.953261\n",
       "50%         1.153055      -4.813172       2.011479      57.085625\n",
       "75%         8.621015      -1.332816       3.999904     107.813044\n",
       "max        29.421755      18.734063       5.019721     137.945408"
      ]
     },
     "metadata": {},
     "output_type": "display_data"
    },
    {
     "name": "stdout",
     "output_type": "stream",
     "text": [
      "____________________________________________________________ \n",
      "\n"
     ]
    },
    {
     "data": {
      "text/html": [
       "<style  type=\"text/css\" >\n",
       "#T_dc6c6_row0_col0,#T_dc6c6_row1_col1,#T_dc6c6_row2_col2,#T_dc6c6_row2_col3,#T_dc6c6_row3_col2,#T_dc6c6_row3_col3{\n",
       "            background-color:  #b40426;\n",
       "            color:  #f1f1f1;\n",
       "        }#T_dc6c6_row0_col1{\n",
       "            background-color:  #779af7;\n",
       "            color:  #000000;\n",
       "        }#T_dc6c6_row0_col2,#T_dc6c6_row0_col3,#T_dc6c6_row1_col2,#T_dc6c6_row3_col0,#T_dc6c6_row3_col1{\n",
       "            background-color:  #3b4cc0;\n",
       "            color:  #f1f1f1;\n",
       "        }#T_dc6c6_row1_col0{\n",
       "            background-color:  #7da0f9;\n",
       "            color:  #000000;\n",
       "        }#T_dc6c6_row1_col3{\n",
       "            background-color:  #4055c8;\n",
       "            color:  #f1f1f1;\n",
       "        }#T_dc6c6_row2_col0{\n",
       "            background-color:  #4358cb;\n",
       "            color:  #f1f1f1;\n",
       "        }#T_dc6c6_row2_col1{\n",
       "            background-color:  #3c4ec2;\n",
       "            color:  #f1f1f1;\n",
       "        }</style><table id=\"T_dc6c6_\" ><thead>    <tr>        <th class=\"blank level0\" ></th>        <th class=\"col_heading level0 col0\" >f0</th>        <th class=\"col_heading level0 col1\" >f1</th>        <th class=\"col_heading level0 col2\" >f2</th>        <th class=\"col_heading level0 col3\" >product</th>    </tr></thead><tbody>\n",
       "                <tr>\n",
       "                        <th id=\"T_dc6c6_level0_row0\" class=\"row_heading level0 row0\" >f0</th>\n",
       "                        <td id=\"T_dc6c6_row0_col0\" class=\"data row0 col0\" >1.000000</td>\n",
       "                        <td id=\"T_dc6c6_row0_col1\" class=\"data row0 col1\" >0.182287</td>\n",
       "                        <td id=\"T_dc6c6_row0_col2\" class=\"data row0 col2\" >-0.001777</td>\n",
       "                        <td id=\"T_dc6c6_row0_col3\" class=\"data row0 col3\" >-0.030491</td>\n",
       "            </tr>\n",
       "            <tr>\n",
       "                        <th id=\"T_dc6c6_level0_row1\" class=\"row_heading level0 row1\" >f1</th>\n",
       "                        <td id=\"T_dc6c6_row1_col0\" class=\"data row1 col0\" >0.182287</td>\n",
       "                        <td id=\"T_dc6c6_row1_col1\" class=\"data row1 col1\" >1.000000</td>\n",
       "                        <td id=\"T_dc6c6_row1_col2\" class=\"data row1 col2\" >-0.002595</td>\n",
       "                        <td id=\"T_dc6c6_row1_col3\" class=\"data row1 col3\" >-0.010155</td>\n",
       "            </tr>\n",
       "            <tr>\n",
       "                        <th id=\"T_dc6c6_level0_row2\" class=\"row_heading level0 row2\" >f2</th>\n",
       "                        <td id=\"T_dc6c6_row2_col0\" class=\"data row2 col0\" >-0.001777</td>\n",
       "                        <td id=\"T_dc6c6_row2_col1\" class=\"data row2 col1\" >-0.002595</td>\n",
       "                        <td id=\"T_dc6c6_row2_col2\" class=\"data row2 col2\" >1.000000</td>\n",
       "                        <td id=\"T_dc6c6_row2_col3\" class=\"data row2 col3\" >0.999397</td>\n",
       "            </tr>\n",
       "            <tr>\n",
       "                        <th id=\"T_dc6c6_level0_row3\" class=\"row_heading level0 row3\" >product</th>\n",
       "                        <td id=\"T_dc6c6_row3_col0\" class=\"data row3 col0\" >-0.030491</td>\n",
       "                        <td id=\"T_dc6c6_row3_col1\" class=\"data row3 col1\" >-0.010155</td>\n",
       "                        <td id=\"T_dc6c6_row3_col2\" class=\"data row3 col2\" >0.999397</td>\n",
       "                        <td id=\"T_dc6c6_row3_col3\" class=\"data row3 col3\" >1.000000</td>\n",
       "            </tr>\n",
       "    </tbody></table>"
      ],
      "text/plain": [
       "<pandas.io.formats.style.Styler at 0x17ead4b69d0>"
      ]
     },
     "metadata": {},
     "output_type": "display_data"
    },
    {
     "data": {
      "image/png": "[encoded data removed]",
      "text/plain": [
       "<Figure size 1000x600 with 4 Axes>"
      ]
     },
     "metadata": {},
     "output_type": "display_data"
    }
   ],
   "source": [
    "df_info(df2, names[1])"
   ]
  },
  {
   "cell_type": "code",
   "execution_count": 7,
   "id": "66cbb0fb",
   "metadata": {},
   "outputs": [
    {
     "name": "stdout",
     "output_type": "stream",
     "text": [
      "\u001b[1mРегион 3\u001b[0m\n"
     ]
    },
    {
     "data": {
      "text/html": [
       "<div>\n",
       "<style scoped>\n",
       "    .dataframe tbody tr th:only-of-type {\n",
       "        vertical-align: middle;\n",
       "    }\n",
       "\n",
       "    .dataframe tbody tr th {\n",
       "        vertical-align: top;\n",
       "    }\n",
       "\n",
       "    .dataframe thead th {\n",
       "        text-align: right;\n",
       "    }\n",
       "</style>\n",
       "<table border=\"1\" class=\"dataframe\">\n",
       "  <thead>\n",
       "    <tr style=\"text-align: right;\">\n",
       "      <th></th>\n",
       "      <th>id</th>\n",
       "      <th>f0</th>\n",
       "      <th>f1</th>\n",
       "      <th>f2</th>\n",
       "      <th>product</th>\n",
       "    </tr>\n",
       "  </thead>\n",
       "  <tbody>\n",
       "    <tr>\n",
       "      <th>0</th>\n",
       "      <td>fwXo0</td>\n",
       "      <td>-1.146987</td>\n",
       "      <td>0.963328</td>\n",
       "      <td>-0.828965</td>\n",
       "      <td>27.758673</td>\n",
       "    </tr>\n",
       "    <tr>\n",
       "      <th>1</th>\n",
       "      <td>WJtFt</td>\n",
       "      <td>0.262778</td>\n",
       "      <td>0.269839</td>\n",
       "      <td>-2.530187</td>\n",
       "      <td>56.069697</td>\n",
       "    </tr>\n",
       "    <tr>\n",
       "      <th>2</th>\n",
       "      <td>ovLUW</td>\n",
       "      <td>0.194587</td>\n",
       "      <td>0.289035</td>\n",
       "      <td>-5.586433</td>\n",
       "      <td>62.871910</td>\n",
       "    </tr>\n",
       "    <tr>\n",
       "      <th>3</th>\n",
       "      <td>q6cA6</td>\n",
       "      <td>2.236060</td>\n",
       "      <td>-0.553760</td>\n",
       "      <td>0.930038</td>\n",
       "      <td>114.572842</td>\n",
       "    </tr>\n",
       "    <tr>\n",
       "      <th>4</th>\n",
       "      <td>WPMUX</td>\n",
       "      <td>-0.515993</td>\n",
       "      <td>1.716266</td>\n",
       "      <td>5.899011</td>\n",
       "      <td>149.600746</td>\n",
       "    </tr>\n",
       "  </tbody>\n",
       "</table>\n",
       "</div>"
      ],
      "text/plain": [
       "      id        f0        f1        f2     product\n",
       "0  fwXo0 -1.146987  0.963328 -0.828965   27.758673\n",
       "1  WJtFt  0.262778  0.269839 -2.530187   56.069697\n",
       "2  ovLUW  0.194587  0.289035 -5.586433   62.871910\n",
       "3  q6cA6  2.236060 -0.553760  0.930038  114.572842\n",
       "4  WPMUX -0.515993  1.716266  5.899011  149.600746"
      ]
     },
     "metadata": {},
     "output_type": "display_data"
    },
    {
     "name": "stdout",
     "output_type": "stream",
     "text": [
      "____________________________________________________________ \n",
      "\n",
      "\n",
      "Длина датасета: 100000 \n",
      "Размер датасета: (100000, 5)\n",
      "Количество явных дубликатов: 0\n",
      "Количество неявных дубликатов по id: 8\n",
      "Количество пропущенных значений:\n",
      " id         0\n",
      "f0         0\n",
      "f1         0\n",
      "f2         0\n",
      "product    0\n",
      "dtype: int64 \n",
      "\n",
      "<class 'pandas.core.frame.DataFrame'>\n",
      "RangeIndex: 100000 entries, 0 to 99999\n",
      "Data columns (total 5 columns):\n",
      " #   Column   Non-Null Count   Dtype  \n",
      "---  ------   --------------   -----  \n",
      " 0   id       100000 non-null  object \n",
      " 1   f0       100000 non-null  float64\n",
      " 2   f1       100000 non-null  float64\n",
      " 3   f2       100000 non-null  float64\n",
      " 4   product  100000 non-null  float64\n",
      "dtypes: float64(4), object(1)\n",
      "memory usage: 3.8+ MB\n"
     ]
    },
    {
     "data": {
      "text/plain": [
       "None"
      ]
     },
     "metadata": {},
     "output_type": "display_data"
    },
    {
     "name": "stdout",
     "output_type": "stream",
     "text": [
      "____________________________________________________________ \n",
      "\n"
     ]
    },
    {
     "data": {
      "text/html": [
       "<div>\n",
       "<style scoped>\n",
       "    .dataframe tbody tr th:only-of-type {\n",
       "        vertical-align: middle;\n",
       "    }\n",
       "\n",
       "    .dataframe tbody tr th {\n",
       "        vertical-align: top;\n",
       "    }\n",
       "\n",
       "    .dataframe thead th {\n",
       "        text-align: right;\n",
       "    }\n",
       "</style>\n",
       "<table border=\"1\" class=\"dataframe\">\n",
       "  <thead>\n",
       "    <tr style=\"text-align: right;\">\n",
       "      <th></th>\n",
       "      <th>f0</th>\n",
       "      <th>f1</th>\n",
       "      <th>f2</th>\n",
       "      <th>product</th>\n",
       "    </tr>\n",
       "  </thead>\n",
       "  <tbody>\n",
       "    <tr>\n",
       "      <th>count</th>\n",
       "      <td>100000.000000</td>\n",
       "      <td>100000.000000</td>\n",
       "      <td>100000.000000</td>\n",
       "      <td>100000.000000</td>\n",
       "    </tr>\n",
       "    <tr>\n",
       "      <th>mean</th>\n",
       "      <td>0.002023</td>\n",
       "      <td>-0.002081</td>\n",
       "      <td>2.495128</td>\n",
       "      <td>95.000000</td>\n",
       "    </tr>\n",
       "    <tr>\n",
       "      <th>std</th>\n",
       "      <td>1.732045</td>\n",
       "      <td>1.730417</td>\n",
       "      <td>3.473445</td>\n",
       "      <td>44.749921</td>\n",
       "    </tr>\n",
       "    <tr>\n",
       "      <th>min</th>\n",
       "      <td>-8.760004</td>\n",
       "      <td>-7.084020</td>\n",
       "      <td>-11.970335</td>\n",
       "      <td>0.000000</td>\n",
       "    </tr>\n",
       "    <tr>\n",
       "      <th>25%</th>\n",
       "      <td>-1.162288</td>\n",
       "      <td>-1.174820</td>\n",
       "      <td>0.130359</td>\n",
       "      <td>59.450441</td>\n",
       "    </tr>\n",
       "    <tr>\n",
       "      <th>50%</th>\n",
       "      <td>0.009424</td>\n",
       "      <td>-0.009482</td>\n",
       "      <td>2.484236</td>\n",
       "      <td>94.925613</td>\n",
       "    </tr>\n",
       "    <tr>\n",
       "      <th>75%</th>\n",
       "      <td>1.158535</td>\n",
       "      <td>1.163678</td>\n",
       "      <td>4.858794</td>\n",
       "      <td>130.595027</td>\n",
       "    </tr>\n",
       "    <tr>\n",
       "      <th>max</th>\n",
       "      <td>7.238262</td>\n",
       "      <td>7.844801</td>\n",
       "      <td>16.739402</td>\n",
       "      <td>190.029838</td>\n",
       "    </tr>\n",
       "  </tbody>\n",
       "</table>\n",
       "</div>"
      ],
      "text/plain": [
       "                  f0             f1             f2        product\n",
       "count  100000.000000  100000.000000  100000.000000  100000.000000\n",
       "mean        0.002023      -0.002081       2.495128      95.000000\n",
       "std         1.732045       1.730417       3.473445      44.749921\n",
       "min        -8.760004      -7.084020     -11.970335       0.000000\n",
       "25%        -1.162288      -1.174820       0.130359      59.450441\n",
       "50%         0.009424      -0.009482       2.484236      94.925613\n",
       "75%         1.158535       1.163678       4.858794     130.595027\n",
       "max         7.238262       7.844801      16.739402     190.029838"
      ]
     },
     "metadata": {},
     "output_type": "display_data"
    },
    {
     "name": "stdout",
     "output_type": "stream",
     "text": [
      "____________________________________________________________ \n",
      "\n"
     ]
    },
    {
     "data": {
      "text/html": [
       "<style  type=\"text/css\" >\n",
       "#T_62a4c_row0_col0,#T_62a4c_row1_col1,#T_62a4c_row2_col2,#T_62a4c_row3_col3{\n",
       "            background-color:  #b40426;\n",
       "            color:  #f1f1f1;\n",
       "        }#T_62a4c_row0_col1,#T_62a4c_row0_col2,#T_62a4c_row0_col3,#T_62a4c_row1_col0,#T_62a4c_row1_col2,#T_62a4c_row1_col3,#T_62a4c_row2_col0,#T_62a4c_row2_col1,#T_62a4c_row3_col0,#T_62a4c_row3_col1{\n",
       "            background-color:  #3b4cc0;\n",
       "            color:  #f1f1f1;\n",
       "        }#T_62a4c_row2_col3,#T_62a4c_row3_col2{\n",
       "            background-color:  #cedaeb;\n",
       "            color:  #000000;\n",
       "        }</style><table id=\"T_62a4c_\" ><thead>    <tr>        <th class=\"blank level0\" ></th>        <th class=\"col_heading level0 col0\" >f0</th>        <th class=\"col_heading level0 col1\" >f1</th>        <th class=\"col_heading level0 col2\" >f2</th>        <th class=\"col_heading level0 col3\" >product</th>    </tr></thead><tbody>\n",
       "                <tr>\n",
       "                        <th id=\"T_62a4c_level0_row0\" class=\"row_heading level0 row0\" >f0</th>\n",
       "                        <td id=\"T_62a4c_row0_col0\" class=\"data row0 col0\" >1.000000</td>\n",
       "                        <td id=\"T_62a4c_row0_col1\" class=\"data row0 col1\" >0.000528</td>\n",
       "                        <td id=\"T_62a4c_row0_col2\" class=\"data row0 col2\" >-0.000448</td>\n",
       "                        <td id=\"T_62a4c_row0_col3\" class=\"data row0 col3\" >-0.001987</td>\n",
       "            </tr>\n",
       "            <tr>\n",
       "                        <th id=\"T_62a4c_level0_row1\" class=\"row_heading level0 row1\" >f1</th>\n",
       "                        <td id=\"T_62a4c_row1_col0\" class=\"data row1 col0\" >0.000528</td>\n",
       "                        <td id=\"T_62a4c_row1_col1\" class=\"data row1 col1\" >1.000000</td>\n",
       "                        <td id=\"T_62a4c_row1_col2\" class=\"data row1 col2\" >0.000779</td>\n",
       "                        <td id=\"T_62a4c_row1_col3\" class=\"data row1 col3\" >-0.001012</td>\n",
       "            </tr>\n",
       "            <tr>\n",
       "                        <th id=\"T_62a4c_level0_row2\" class=\"row_heading level0 row2\" >f2</th>\n",
       "                        <td id=\"T_62a4c_row2_col0\" class=\"data row2 col0\" >-0.000448</td>\n",
       "                        <td id=\"T_62a4c_row2_col1\" class=\"data row2 col1\" >0.000779</td>\n",
       "                        <td id=\"T_62a4c_row2_col2\" class=\"data row2 col2\" >1.000000</td>\n",
       "                        <td id=\"T_62a4c_row2_col3\" class=\"data row2 col3\" >0.445871</td>\n",
       "            </tr>\n",
       "            <tr>\n",
       "                        <th id=\"T_62a4c_level0_row3\" class=\"row_heading level0 row3\" >product</th>\n",
       "                        <td id=\"T_62a4c_row3_col0\" class=\"data row3 col0\" >-0.001987</td>\n",
       "                        <td id=\"T_62a4c_row3_col1\" class=\"data row3 col1\" >-0.001012</td>\n",
       "                        <td id=\"T_62a4c_row3_col2\" class=\"data row3 col2\" >0.445871</td>\n",
       "                        <td id=\"T_62a4c_row3_col3\" class=\"data row3 col3\" >1.000000</td>\n",
       "            </tr>\n",
       "    </tbody></table>"
      ],
      "text/plain": [
       "<pandas.io.formats.style.Styler at 0x17ead616880>"
      ]
     },
     "metadata": {},
     "output_type": "display_data"
    },
    {
     "data": {
      "image/png": "[encoded data removed]",
      "text/plain": [
       "<Figure size 1000x600 with 4 Axes>"
      ]
     },
     "metadata": {},
     "output_type": "display_data"
    }
   ],
   "source": [
    "df_info(df3, names[2])"
   ]
  },
  {
   "cell_type": "code",
   "execution_count": 8,
   "id": "4cc31185",
   "metadata": {},
   "outputs": [
    {
     "data": {
      "image/png": "[encoded data removed]",
      "text/plain": [
       "<Figure size 800x500 with 1 Axes>"
      ]
     },
     "metadata": {},
     "output_type": "display_data"
    }
   ],
   "source": [
    "plt.figure(figsize=(8,5))\n",
    "plt.title('Распределение целевого признака \"product\" по регионам', fontsize=17)\n",
    "plt.xlabel('Объём запасов сырья, тыс.баррелей')\n",
    "plt.ylabel('Количество скважин с таким объемом запасов')\n",
    "df1['product'].hist(color='mediumseagreen', label=\"df1\", alpha=0.8, histtype='step', linewidth=4)\n",
    "df2['product'].hist(color='tomato', label=\"df2\", alpha=0.8, histtype='step', linewidth=4)\n",
    "df3['product'].hist(color='royalblue', label=\"df3\", alpha=0.8, histtype='step', linewidth=4)\n",
    "plt.legend();"
   ]
  },
  {
   "cell_type": "markdown",
   "id": "984f42f1",
   "metadata": {},
   "source": [
    "<h3>Вывод"
   ]
  },
  {
   "cell_type": "markdown",
   "id": "a62d3d79",
   "metadata": {},
   "source": [
    "- Длина всех датасетов: 100000 \n",
    "- Размер всех датасетов: (100000, 5)\n",
    "- Явные дубликаты отсутствуют\n",
    "- Присутствуют дубликаты строк по столбцу `id`: 20 в первом датасете и по 8 в других\n",
    "- Пропуски отсутствуют\n",
    "- Проблема мультиколлинеарности отсутствует\n",
    "- Заметна высокая зависимость между целевым признаком `product` и предиктором `f2` в каждом из датасетов, особенно высоко это значений в датасете второго региона - значение близко к единице\n",
    "- Большой разброс значений стандартного отклонения у признаков `f0`, `f1` и `f2`\n",
    "- Целевой признак задачи - `product`. Распредление его значений для первого и третьего регионов схожи, тогда как второй сильно выделяется своими пиками"
   ]
  },
  {
   "cell_type": "markdown",
   "id": "97259a96",
   "metadata": {},
   "source": [
    "<a id='2'></a>"
   ]
  },
  {
   "cell_type": "markdown",
   "id": "c05435a1",
   "metadata": {},
   "source": [
    "<h2> Подготовка данных"
   ]
  },
  {
   "cell_type": "markdown",
   "id": "4b561ce0",
   "metadata": {},
   "source": [
    "Посмотрим на строки с дублирующимся `id`."
   ]
  },
  {
   "cell_type": "code",
   "execution_count": 9,
   "id": "406c351f",
   "metadata": {},
   "outputs": [
    {
     "data": {
      "text/html": [
       "<div>\n",
       "<style scoped>\n",
       "    .dataframe tbody tr th:only-of-type {\n",
       "        vertical-align: middle;\n",
       "    }\n",
       "\n",
       "    .dataframe tbody tr th {\n",
       "        vertical-align: top;\n",
       "    }\n",
       "\n",
       "    .dataframe thead th {\n",
       "        text-align: right;\n",
       "    }\n",
       "</style>\n",
       "<table border=\"1\" class=\"dataframe\">\n",
       "  <thead>\n",
       "    <tr style=\"text-align: right;\">\n",
       "      <th></th>\n",
       "      <th>id</th>\n",
       "      <th>f0</th>\n",
       "      <th>f1</th>\n",
       "      <th>f2</th>\n",
       "      <th>product</th>\n",
       "    </tr>\n",
       "  </thead>\n",
       "  <tbody>\n",
       "    <tr>\n",
       "      <th>931</th>\n",
       "      <td>HZww2</td>\n",
       "      <td>0.755284</td>\n",
       "      <td>0.368511</td>\n",
       "      <td>1.863211</td>\n",
       "      <td>30.681774</td>\n",
       "    </tr>\n",
       "    <tr>\n",
       "      <th>1364</th>\n",
       "      <td>bxg6G</td>\n",
       "      <td>0.411645</td>\n",
       "      <td>0.856830</td>\n",
       "      <td>-3.653440</td>\n",
       "      <td>73.604260</td>\n",
       "    </tr>\n",
       "    <tr>\n",
       "      <th>1949</th>\n",
       "      <td>QcMuo</td>\n",
       "      <td>0.506563</td>\n",
       "      <td>-0.323775</td>\n",
       "      <td>-2.215583</td>\n",
       "      <td>75.496502</td>\n",
       "    </tr>\n",
       "    <tr>\n",
       "      <th>3389</th>\n",
       "      <td>A5aEY</td>\n",
       "      <td>-0.039949</td>\n",
       "      <td>0.156872</td>\n",
       "      <td>0.209861</td>\n",
       "      <td>89.249364</td>\n",
       "    </tr>\n",
       "    <tr>\n",
       "      <th>7530</th>\n",
       "      <td>HZww2</td>\n",
       "      <td>1.061194</td>\n",
       "      <td>-0.373969</td>\n",
       "      <td>10.430210</td>\n",
       "      <td>158.828695</td>\n",
       "    </tr>\n",
       "    <tr>\n",
       "      <th>16633</th>\n",
       "      <td>fiKDv</td>\n",
       "      <td>0.157341</td>\n",
       "      <td>1.028359</td>\n",
       "      <td>5.585586</td>\n",
       "      <td>95.817889</td>\n",
       "    </tr>\n",
       "    <tr>\n",
       "      <th>21426</th>\n",
       "      <td>Tdehs</td>\n",
       "      <td>0.829407</td>\n",
       "      <td>0.298807</td>\n",
       "      <td>-0.049563</td>\n",
       "      <td>96.035308</td>\n",
       "    </tr>\n",
       "    <tr>\n",
       "      <th>41724</th>\n",
       "      <td>bxg6G</td>\n",
       "      <td>-0.823752</td>\n",
       "      <td>0.546319</td>\n",
       "      <td>3.630479</td>\n",
       "      <td>93.007798</td>\n",
       "    </tr>\n",
       "    <tr>\n",
       "      <th>42529</th>\n",
       "      <td>AGS9W</td>\n",
       "      <td>1.454747</td>\n",
       "      <td>-0.479651</td>\n",
       "      <td>0.683380</td>\n",
       "      <td>126.370504</td>\n",
       "    </tr>\n",
       "    <tr>\n",
       "      <th>51970</th>\n",
       "      <td>A5aEY</td>\n",
       "      <td>-0.180335</td>\n",
       "      <td>0.935548</td>\n",
       "      <td>-2.094773</td>\n",
       "      <td>33.020205</td>\n",
       "    </tr>\n",
       "  </tbody>\n",
       "</table>\n",
       "</div>"
      ],
      "text/plain": [
       "          id        f0        f1         f2     product\n",
       "931    HZww2  0.755284  0.368511   1.863211   30.681774\n",
       "1364   bxg6G  0.411645  0.856830  -3.653440   73.604260\n",
       "1949   QcMuo  0.506563 -0.323775  -2.215583   75.496502\n",
       "3389   A5aEY -0.039949  0.156872   0.209861   89.249364\n",
       "7530   HZww2  1.061194 -0.373969  10.430210  158.828695\n",
       "16633  fiKDv  0.157341  1.028359   5.585586   95.817889\n",
       "21426  Tdehs  0.829407  0.298807  -0.049563   96.035308\n",
       "41724  bxg6G -0.823752  0.546319   3.630479   93.007798\n",
       "42529  AGS9W  1.454747 -0.479651   0.683380  126.370504\n",
       "51970  A5aEY -0.180335  0.935548  -2.094773   33.020205"
      ]
     },
     "metadata": {},
     "output_type": "display_data"
    },
    {
     "data": {
      "text/html": [
       "<div>\n",
       "<style scoped>\n",
       "    .dataframe tbody tr th:only-of-type {\n",
       "        vertical-align: middle;\n",
       "    }\n",
       "\n",
       "    .dataframe tbody tr th {\n",
       "        vertical-align: top;\n",
       "    }\n",
       "\n",
       "    .dataframe thead th {\n",
       "        text-align: right;\n",
       "    }\n",
       "</style>\n",
       "<table border=\"1\" class=\"dataframe\">\n",
       "  <thead>\n",
       "    <tr style=\"text-align: right;\">\n",
       "      <th></th>\n",
       "      <th>id</th>\n",
       "      <th>f0</th>\n",
       "      <th>f1</th>\n",
       "      <th>f2</th>\n",
       "      <th>product</th>\n",
       "    </tr>\n",
       "  </thead>\n",
       "  <tbody>\n",
       "    <tr>\n",
       "      <th>1305</th>\n",
       "      <td>LHZR0</td>\n",
       "      <td>11.170835</td>\n",
       "      <td>-1.945066</td>\n",
       "      <td>3.002872</td>\n",
       "      <td>80.859783</td>\n",
       "    </tr>\n",
       "    <tr>\n",
       "      <th>2721</th>\n",
       "      <td>bfPNe</td>\n",
       "      <td>-9.494442</td>\n",
       "      <td>-5.463692</td>\n",
       "      <td>4.006042</td>\n",
       "      <td>110.992147</td>\n",
       "    </tr>\n",
       "    <tr>\n",
       "      <th>5849</th>\n",
       "      <td>5ltQ6</td>\n",
       "      <td>-3.435401</td>\n",
       "      <td>-12.296043</td>\n",
       "      <td>1.999796</td>\n",
       "      <td>57.085625</td>\n",
       "    </tr>\n",
       "    <tr>\n",
       "      <th>41906</th>\n",
       "      <td>LHZR0</td>\n",
       "      <td>-8.989672</td>\n",
       "      <td>-4.286607</td>\n",
       "      <td>2.009139</td>\n",
       "      <td>57.085625</td>\n",
       "    </tr>\n",
       "    <tr>\n",
       "      <th>47591</th>\n",
       "      <td>wt4Uk</td>\n",
       "      <td>-9.091098</td>\n",
       "      <td>-8.109279</td>\n",
       "      <td>-0.002314</td>\n",
       "      <td>3.179103</td>\n",
       "    </tr>\n",
       "    <tr>\n",
       "      <th>82178</th>\n",
       "      <td>bfPNe</td>\n",
       "      <td>-6.202799</td>\n",
       "      <td>-4.820045</td>\n",
       "      <td>2.995107</td>\n",
       "      <td>84.038886</td>\n",
       "    </tr>\n",
       "    <tr>\n",
       "      <th>82873</th>\n",
       "      <td>wt4Uk</td>\n",
       "      <td>10.259972</td>\n",
       "      <td>-9.376355</td>\n",
       "      <td>4.994297</td>\n",
       "      <td>134.766305</td>\n",
       "    </tr>\n",
       "    <tr>\n",
       "      <th>84461</th>\n",
       "      <td>5ltQ6</td>\n",
       "      <td>18.213839</td>\n",
       "      <td>2.191999</td>\n",
       "      <td>3.993869</td>\n",
       "      <td>107.813044</td>\n",
       "    </tr>\n",
       "  </tbody>\n",
       "</table>\n",
       "</div>"
      ],
      "text/plain": [
       "          id         f0         f1        f2     product\n",
       "1305   LHZR0  11.170835  -1.945066  3.002872   80.859783\n",
       "2721   bfPNe  -9.494442  -5.463692  4.006042  110.992147\n",
       "5849   5ltQ6  -3.435401 -12.296043  1.999796   57.085625\n",
       "41906  LHZR0  -8.989672  -4.286607  2.009139   57.085625\n",
       "47591  wt4Uk  -9.091098  -8.109279 -0.002314    3.179103\n",
       "82178  bfPNe  -6.202799  -4.820045  2.995107   84.038886\n",
       "82873  wt4Uk  10.259972  -9.376355  4.994297  134.766305\n",
       "84461  5ltQ6  18.213839   2.191999  3.993869  107.813044"
      ]
     },
     "metadata": {},
     "output_type": "display_data"
    },
    {
     "data": {
      "text/html": [
       "<div>\n",
       "<style scoped>\n",
       "    .dataframe tbody tr th:only-of-type {\n",
       "        vertical-align: middle;\n",
       "    }\n",
       "\n",
       "    .dataframe tbody tr th {\n",
       "        vertical-align: top;\n",
       "    }\n",
       "\n",
       "    .dataframe thead th {\n",
       "        text-align: right;\n",
       "    }\n",
       "</style>\n",
       "<table border=\"1\" class=\"dataframe\">\n",
       "  <thead>\n",
       "    <tr style=\"text-align: right;\">\n",
       "      <th></th>\n",
       "      <th>id</th>\n",
       "      <th>f0</th>\n",
       "      <th>f1</th>\n",
       "      <th>f2</th>\n",
       "      <th>product</th>\n",
       "    </tr>\n",
       "  </thead>\n",
       "  <tbody>\n",
       "    <tr>\n",
       "      <th>11449</th>\n",
       "      <td>VF7Jo</td>\n",
       "      <td>2.122656</td>\n",
       "      <td>-0.858275</td>\n",
       "      <td>5.746001</td>\n",
       "      <td>181.716817</td>\n",
       "    </tr>\n",
       "    <tr>\n",
       "      <th>28039</th>\n",
       "      <td>xCHr8</td>\n",
       "      <td>1.633027</td>\n",
       "      <td>0.368135</td>\n",
       "      <td>-2.378367</td>\n",
       "      <td>6.120525</td>\n",
       "    </tr>\n",
       "    <tr>\n",
       "      <th>43233</th>\n",
       "      <td>xCHr8</td>\n",
       "      <td>-0.847066</td>\n",
       "      <td>2.101796</td>\n",
       "      <td>5.597130</td>\n",
       "      <td>184.388641</td>\n",
       "    </tr>\n",
       "    <tr>\n",
       "      <th>44378</th>\n",
       "      <td>Vcm5J</td>\n",
       "      <td>-1.229484</td>\n",
       "      <td>-2.439204</td>\n",
       "      <td>1.222909</td>\n",
       "      <td>137.968290</td>\n",
       "    </tr>\n",
       "    <tr>\n",
       "      <th>45404</th>\n",
       "      <td>KUPhW</td>\n",
       "      <td>0.231846</td>\n",
       "      <td>-1.698941</td>\n",
       "      <td>4.990775</td>\n",
       "      <td>11.716299</td>\n",
       "    </tr>\n",
       "    <tr>\n",
       "      <th>49564</th>\n",
       "      <td>VF7Jo</td>\n",
       "      <td>-0.883115</td>\n",
       "      <td>0.560537</td>\n",
       "      <td>0.723601</td>\n",
       "      <td>136.233420</td>\n",
       "    </tr>\n",
       "    <tr>\n",
       "      <th>55967</th>\n",
       "      <td>KUPhW</td>\n",
       "      <td>1.211150</td>\n",
       "      <td>3.176408</td>\n",
       "      <td>5.543540</td>\n",
       "      <td>132.831802</td>\n",
       "    </tr>\n",
       "    <tr>\n",
       "      <th>95090</th>\n",
       "      <td>Vcm5J</td>\n",
       "      <td>2.587702</td>\n",
       "      <td>1.986875</td>\n",
       "      <td>2.482245</td>\n",
       "      <td>92.327572</td>\n",
       "    </tr>\n",
       "  </tbody>\n",
       "</table>\n",
       "</div>"
      ],
      "text/plain": [
       "          id        f0        f1        f2     product\n",
       "11449  VF7Jo  2.122656 -0.858275  5.746001  181.716817\n",
       "28039  xCHr8  1.633027  0.368135 -2.378367    6.120525\n",
       "43233  xCHr8 -0.847066  2.101796  5.597130  184.388641\n",
       "44378  Vcm5J -1.229484 -2.439204  1.222909  137.968290\n",
       "45404  KUPhW  0.231846 -1.698941  4.990775   11.716299\n",
       "49564  VF7Jo -0.883115  0.560537  0.723601  136.233420\n",
       "55967  KUPhW  1.211150  3.176408  5.543540  132.831802\n",
       "95090  Vcm5J  2.587702  1.986875  2.482245   92.327572"
      ]
     },
     "metadata": {},
     "output_type": "display_data"
    }
   ],
   "source": [
    "data = [df1, df2, df3]\n",
    "\n",
    "for df in data:\n",
    "    display(df[df['id'].duplicated(keep=False)].head(10))"
   ]
  },
  {
   "cell_type": "markdown",
   "id": "b1ebc9a4",
   "metadata": {},
   "source": [
    "Видно, что все значения признаков у дубликатов отличаются. Мы не можем выявить какие из строк содержат истинные значения, поэтому удалим дубликаты по `id`, которые встречаются после первой записи."
   ]
  },
  {
   "cell_type": "code",
   "execution_count": 10,
   "id": "1e12c5c5",
   "metadata": {},
   "outputs": [],
   "source": [
    "# в drop_duplicates() по умолчанию keep=first\n",
    "for df in data:\n",
    "    df = df.drop_duplicates(subset='id', inplace=True)"
   ]
  },
  {
   "cell_type": "markdown",
   "id": "f779660b",
   "metadata": {},
   "source": [
    "Проверим."
   ]
  },
  {
   "cell_type": "code",
   "execution_count": 11,
   "id": "3fa0b8d0",
   "metadata": {},
   "outputs": [
    {
     "name": "stdout",
     "output_type": "stream",
     "text": [
      "Дубликаты в df1: 0 \n",
      "\n",
      "Дубликаты в df1: 0 \n",
      "\n",
      "Дубликаты в df1: 0 \n",
      "\n"
     ]
    }
   ],
   "source": [
    "for df in data:\n",
    "    print('Дубликаты в df1:', df['id'].duplicated(keep=False).sum(),'\\n')"
   ]
  },
  {
   "cell_type": "code",
   "execution_count": 12,
   "id": "2c22e0e9",
   "metadata": {},
   "outputs": [
    {
     "data": {
      "text/plain": [
       "((99990, 5), (99996, 5), (99996, 5))"
      ]
     },
     "execution_count": 12,
     "metadata": {},
     "output_type": "execute_result"
    }
   ],
   "source": [
    "df1.shape, df2.shape, df3.shape"
   ]
  },
  {
   "cell_type": "markdown",
   "id": "b48a3c5c",
   "metadata": {},
   "source": [
    "Удалим столбец `id` в каждом датасете, так как он не несёт никакой полезной информации и будет только мешать обучению модели."
   ]
  },
  {
   "cell_type": "code",
   "execution_count": 13,
   "id": "cbc4d8b7",
   "metadata": {},
   "outputs": [
    {
     "data": {
      "text/html": [
       "<div>\n",
       "<style scoped>\n",
       "    .dataframe tbody tr th:only-of-type {\n",
       "        vertical-align: middle;\n",
       "    }\n",
       "\n",
       "    .dataframe tbody tr th {\n",
       "        vertical-align: top;\n",
       "    }\n",
       "\n",
       "    .dataframe thead th {\n",
       "        text-align: right;\n",
       "    }\n",
       "</style>\n",
       "<table border=\"1\" class=\"dataframe\">\n",
       "  <thead>\n",
       "    <tr style=\"text-align: right;\">\n",
       "      <th></th>\n",
       "      <th>f0</th>\n",
       "      <th>f1</th>\n",
       "      <th>f2</th>\n",
       "      <th>product</th>\n",
       "    </tr>\n",
       "  </thead>\n",
       "  <tbody>\n",
       "    <tr>\n",
       "      <th>0</th>\n",
       "      <td>0.705745</td>\n",
       "      <td>-0.497823</td>\n",
       "      <td>1.221170</td>\n",
       "      <td>105.280062</td>\n",
       "    </tr>\n",
       "    <tr>\n",
       "      <th>1</th>\n",
       "      <td>1.334711</td>\n",
       "      <td>-0.340164</td>\n",
       "      <td>4.365080</td>\n",
       "      <td>73.037750</td>\n",
       "    </tr>\n",
       "    <tr>\n",
       "      <th>2</th>\n",
       "      <td>1.022732</td>\n",
       "      <td>0.151990</td>\n",
       "      <td>1.419926</td>\n",
       "      <td>85.265647</td>\n",
       "    </tr>\n",
       "    <tr>\n",
       "      <th>3</th>\n",
       "      <td>-0.032172</td>\n",
       "      <td>0.139033</td>\n",
       "      <td>2.978566</td>\n",
       "      <td>168.620776</td>\n",
       "    </tr>\n",
       "    <tr>\n",
       "      <th>4</th>\n",
       "      <td>1.988431</td>\n",
       "      <td>0.155413</td>\n",
       "      <td>4.751769</td>\n",
       "      <td>154.036647</td>\n",
       "    </tr>\n",
       "  </tbody>\n",
       "</table>\n",
       "</div>"
      ],
      "text/plain": [
       "         f0        f1        f2     product\n",
       "0  0.705745 -0.497823  1.221170  105.280062\n",
       "1  1.334711 -0.340164  4.365080   73.037750\n",
       "2  1.022732  0.151990  1.419926   85.265647\n",
       "3 -0.032172  0.139033  2.978566  168.620776\n",
       "4  1.988431  0.155413  4.751769  154.036647"
      ]
     },
     "metadata": {},
     "output_type": "display_data"
    },
    {
     "data": {
      "text/html": [
       "<div>\n",
       "<style scoped>\n",
       "    .dataframe tbody tr th:only-of-type {\n",
       "        vertical-align: middle;\n",
       "    }\n",
       "\n",
       "    .dataframe tbody tr th {\n",
       "        vertical-align: top;\n",
       "    }\n",
       "\n",
       "    .dataframe thead th {\n",
       "        text-align: right;\n",
       "    }\n",
       "</style>\n",
       "<table border=\"1\" class=\"dataframe\">\n",
       "  <thead>\n",
       "    <tr style=\"text-align: right;\">\n",
       "      <th></th>\n",
       "      <th>f0</th>\n",
       "      <th>f1</th>\n",
       "      <th>f2</th>\n",
       "      <th>product</th>\n",
       "    </tr>\n",
       "  </thead>\n",
       "  <tbody>\n",
       "    <tr>\n",
       "      <th>0</th>\n",
       "      <td>-15.001348</td>\n",
       "      <td>-8.276000</td>\n",
       "      <td>-0.005876</td>\n",
       "      <td>3.179103</td>\n",
       "    </tr>\n",
       "    <tr>\n",
       "      <th>1</th>\n",
       "      <td>14.272088</td>\n",
       "      <td>-3.475083</td>\n",
       "      <td>0.999183</td>\n",
       "      <td>26.953261</td>\n",
       "    </tr>\n",
       "    <tr>\n",
       "      <th>2</th>\n",
       "      <td>6.263187</td>\n",
       "      <td>-5.948386</td>\n",
       "      <td>5.001160</td>\n",
       "      <td>134.766305</td>\n",
       "    </tr>\n",
       "    <tr>\n",
       "      <th>3</th>\n",
       "      <td>-13.081196</td>\n",
       "      <td>-11.506057</td>\n",
       "      <td>4.999415</td>\n",
       "      <td>137.945408</td>\n",
       "    </tr>\n",
       "    <tr>\n",
       "      <th>4</th>\n",
       "      <td>12.702195</td>\n",
       "      <td>-8.147433</td>\n",
       "      <td>5.004363</td>\n",
       "      <td>134.766305</td>\n",
       "    </tr>\n",
       "  </tbody>\n",
       "</table>\n",
       "</div>"
      ],
      "text/plain": [
       "          f0         f1        f2     product\n",
       "0 -15.001348  -8.276000 -0.005876    3.179103\n",
       "1  14.272088  -3.475083  0.999183   26.953261\n",
       "2   6.263187  -5.948386  5.001160  134.766305\n",
       "3 -13.081196 -11.506057  4.999415  137.945408\n",
       "4  12.702195  -8.147433  5.004363  134.766305"
      ]
     },
     "metadata": {},
     "output_type": "display_data"
    },
    {
     "data": {
      "text/html": [
       "<div>\n",
       "<style scoped>\n",
       "    .dataframe tbody tr th:only-of-type {\n",
       "        vertical-align: middle;\n",
       "    }\n",
       "\n",
       "    .dataframe tbody tr th {\n",
       "        vertical-align: top;\n",
       "    }\n",
       "\n",
       "    .dataframe thead th {\n",
       "        text-align: right;\n",
       "    }\n",
       "</style>\n",
       "<table border=\"1\" class=\"dataframe\">\n",
       "  <thead>\n",
       "    <tr style=\"text-align: right;\">\n",
       "      <th></th>\n",
       "      <th>f0</th>\n",
       "      <th>f1</th>\n",
       "      <th>f2</th>\n",
       "      <th>product</th>\n",
       "    </tr>\n",
       "  </thead>\n",
       "  <tbody>\n",
       "    <tr>\n",
       "      <th>0</th>\n",
       "      <td>-1.146987</td>\n",
       "      <td>0.963328</td>\n",
       "      <td>-0.828965</td>\n",
       "      <td>27.758673</td>\n",
       "    </tr>\n",
       "    <tr>\n",
       "      <th>1</th>\n",
       "      <td>0.262778</td>\n",
       "      <td>0.269839</td>\n",
       "      <td>-2.530187</td>\n",
       "      <td>56.069697</td>\n",
       "    </tr>\n",
       "    <tr>\n",
       "      <th>2</th>\n",
       "      <td>0.194587</td>\n",
       "      <td>0.289035</td>\n",
       "      <td>-5.586433</td>\n",
       "      <td>62.871910</td>\n",
       "    </tr>\n",
       "    <tr>\n",
       "      <th>3</th>\n",
       "      <td>2.236060</td>\n",
       "      <td>-0.553760</td>\n",
       "      <td>0.930038</td>\n",
       "      <td>114.572842</td>\n",
       "    </tr>\n",
       "    <tr>\n",
       "      <th>4</th>\n",
       "      <td>-0.515993</td>\n",
       "      <td>1.716266</td>\n",
       "      <td>5.899011</td>\n",
       "      <td>149.600746</td>\n",
       "    </tr>\n",
       "  </tbody>\n",
       "</table>\n",
       "</div>"
      ],
      "text/plain": [
       "         f0        f1        f2     product\n",
       "0 -1.146987  0.963328 -0.828965   27.758673\n",
       "1  0.262778  0.269839 -2.530187   56.069697\n",
       "2  0.194587  0.289035 -5.586433   62.871910\n",
       "3  2.236060 -0.553760  0.930038  114.572842\n",
       "4 -0.515993  1.716266  5.899011  149.600746"
      ]
     },
     "metadata": {},
     "output_type": "display_data"
    }
   ],
   "source": [
    "# удаление айдишника\n",
    "df1 = df1.drop(['id'], axis=1)\n",
    "df2 = df2.drop(['id'], axis=1)\n",
    "df3 = df3.drop(['id'], axis=1)\n",
    "\n",
    "data = [df1, df2, df3]\n",
    "\n",
    "# проверка\n",
    "for i in range(3):\n",
    "    display(data[i].head())"
   ]
  },
  {
   "cell_type": "markdown",
   "id": "10067d18",
   "metadata": {},
   "source": [
    "Создадим функцию, которая будет выполнять следующие действия для каждого датасета:\n",
    "\n",
    "- Разобъет данные на обучающую и валидационную выборки в соотношении 75:25.\n",
    "\n",
    "- Стандартизирует данные\n",
    "\n",
    "- Обучит модель и сделает предсказания на валидационной выборке\n",
    "\n",
    "- Сохранит предсказания на валидационной выборке и правильные ответы в словарь\n",
    "\n",
    "- Напечатает на экране средний запас фактического сырья, предсказанного сырья и `RMSE` модели"
   ]
  },
  {
   "cell_type": "code",
   "execution_count": 14,
   "id": "a8623364",
   "metadata": {},
   "outputs": [],
   "source": [
    "# список с именами и словарь для правильных ответов и предсказаний\n",
    "names = ['df1', 'df2', 'df3']\n",
    "names_2 = {'df1':'в первом регионе', 'df2':'во втором регионе', 'df3':'в третьем регионе'}\n",
    "names_3 = ['в первом регионе', 'во втором регионе', 'в третьем регионе']"
   ]
  },
  {
   "cell_type": "code",
   "execution_count": 15,
   "id": "d1e59eee",
   "metadata": {},
   "outputs": [],
   "source": [
    "# словарь для правильных ответов и предсказаний, словарь для подсчетов\n",
    "targets = {}\n",
    "metrics = {}\n",
    "\n",
    "# функция разбиеня на выборки\n",
    "def ml_df(df, name):\n",
    "    \n",
    "    # переменные с признками и целевым признаком\n",
    "    features = df.drop('product', axis=1)\n",
    "    target = df['product']\n",
    "        \n",
    "    # разделение на выборки\n",
    "    (features_train, features_valid, \n",
    "    target_train, target_valid) = train_test_split(features,\n",
    "                                                   target,\n",
    "                                                   test_size=.25,\n",
    "                                                   random_state=RANDOM_STATE)\n",
    "    \n",
    "    print(f'Размерность тренировочной выборки для {name}:{target_train.shape[0]/target.shape[0]:.0%}')\n",
    "    print(f'Размерность валидационной выборки для {name}:{target_valid.shape[0]/target.shape[0]:.0%}')\n",
    "    \n",
    "    # пайплайн \n",
    "    model = make_pipeline(StandardScaler(), LinearRegression())\n",
    "    model.fit(features_train, target_train)\n",
    "    predictions = model.predict(features_valid)\n",
    "    \n",
    "    # добавление значений в словарь\n",
    "    targets[name] = (target_valid, pd.Series(predictions, index=target_valid.index, name='product_predicted'))\n",
    "    \n",
    "    # подсчеты среднего значения и rmse\n",
    "    fact_mean = targets[name][0].mean()\n",
    "    preds_mean = targets[name][1].mean()\n",
    "    rmse = sqrt(mean_squared_error(targets[name][0], targets[name][1]))\n",
    "    \n",
    "    # добавение подсчетов в словарь\n",
    "    metrics[name] = {'Фактический средний запас':fact_mean, 'Предсказанный средний запас':preds_mean, 'RMSE':rmse}\n",
    "    print('_' * 60, '\\n')"
   ]
  },
  {
   "cell_type": "code",
   "execution_count": 16,
   "id": "1e8329d8",
   "metadata": {},
   "outputs": [
    {
     "name": "stdout",
     "output_type": "stream",
     "text": [
      "Размерность тренировочной выборки для df1:75%\n",
      "Размерность валидационной выборки для df1:25%\n",
      "____________________________________________________________ \n",
      "\n",
      "Размерность тренировочной выборки для df2:75%\n",
      "Размерность валидационной выборки для df2:25%\n",
      "____________________________________________________________ \n",
      "\n",
      "Размерность тренировочной выборки для df3:75%\n",
      "Размерность валидационной выборки для df3:25%\n",
      "____________________________________________________________ \n",
      "\n"
     ]
    },
    {
     "data": {
      "text/html": [
       "<div>\n",
       "<style scoped>\n",
       "    .dataframe tbody tr th:only-of-type {\n",
       "        vertical-align: middle;\n",
       "    }\n",
       "\n",
       "    .dataframe tbody tr th {\n",
       "        vertical-align: top;\n",
       "    }\n",
       "\n",
       "    .dataframe thead th {\n",
       "        text-align: right;\n",
       "    }\n",
       "</style>\n",
       "<table border=\"1\" class=\"dataframe\">\n",
       "  <thead>\n",
       "    <tr style=\"text-align: right;\">\n",
       "      <th></th>\n",
       "      <th>df1</th>\n",
       "      <th>df2</th>\n",
       "      <th>df3</th>\n",
       "    </tr>\n",
       "  </thead>\n",
       "  <tbody>\n",
       "    <tr>\n",
       "      <th>Фактический средний запас</th>\n",
       "      <td>92.158205</td>\n",
       "      <td>68.970382</td>\n",
       "      <td>95.517364</td>\n",
       "    </tr>\n",
       "    <tr>\n",
       "      <th>Предсказанный средний запас</th>\n",
       "      <td>92.789156</td>\n",
       "      <td>68.957466</td>\n",
       "      <td>95.079497</td>\n",
       "    </tr>\n",
       "    <tr>\n",
       "      <th>RMSE</th>\n",
       "      <td>37.853527</td>\n",
       "      <td>0.894780</td>\n",
       "      <td>40.041557</td>\n",
       "    </tr>\n",
       "  </tbody>\n",
       "</table>\n",
       "</div>"
      ],
      "text/plain": [
       "                                   df1        df2        df3\n",
       "Фактический средний запас    92.158205  68.970382  95.517364\n",
       "Предсказанный средний запас  92.789156  68.957466  95.079497\n",
       "RMSE                         37.853527   0.894780  40.041557"
      ]
     },
     "execution_count": 16,
     "metadata": {},
     "output_type": "execute_result"
    }
   ],
   "source": [
    "# применяем функцию ко всем датасетам\n",
    "for i in range(3):\n",
    "    ml_df(data[i], names[i])\n",
    "    \n",
    "# преобразуем словарь в таблицу\n",
    "pd.DataFrame.from_dict(metrics)"
   ]
  },
  {
   "cell_type": "markdown",
   "id": "35b6bb08",
   "metadata": {},
   "source": [
    "<h3>Вывод\n"
   ]
  },
  {
   "cell_type": "markdown",
   "id": "cf24397f",
   "metadata": {},
   "source": [
    "По итогам обработки, мы:\n",
    "\n",
    "- Удалили признак `id`\n",
    "- Стандартизировали данные\n",
    "- Разбили данные на тренировочную и валидационную выборки\n",
    "- Нашли средний запас предсказанного сырья и вывели `RMSE` модели\n",
    "- Выяснили, что лучший показатель `RMSE` у `df2` - 0.89, тогда как у других датасетов показатели `RMSE` довольно высокие - 37.8 и 40, что указывает на невысокую точность модели."
   ]
  },
  {
   "cell_type": "markdown",
   "id": "8412c208",
   "metadata": {},
   "source": [
    "<a id='3'></a>"
   ]
  },
  {
   "cell_type": "markdown",
   "id": "f85541b8",
   "metadata": {},
   "source": [
    "<h2> Подготовка к расчёту прибыли"
   ]
  },
  {
   "cell_type": "markdown",
   "id": "1f1dccbd",
   "metadata": {},
   "source": [
    "Рассчитаем достаточный объём сырья для безубыточной разработки новой скважины."
   ]
  },
  {
   "cell_type": "code",
   "execution_count": 17,
   "id": "6c5f52ff",
   "metadata": {},
   "outputs": [
    {
     "name": "stdout",
     "output_type": "stream",
     "text": [
      "Достаточный объем нефти в скважине, требуемый для безубыточной разработки: 111.1 тыс. баррелей\n"
     ]
    }
   ],
   "source": [
    "lossfree_value = BUDGET/(BEST_POINTS*UNIT_BARREL)\n",
    "print(f'Достаточный объем нефти в скважине, требуемый для безубыточной \\\n",
    "разработки: {lossfree_value:.1f} тыс. баррелей')"
   ]
  },
  {
   "cell_type": "markdown",
   "id": "4e4293c7",
   "metadata": {},
   "source": [
    "Сравним полученный объём сырья со средним запасом в каждом регионе."
   ]
  },
  {
   "cell_type": "code",
   "execution_count": 18,
   "id": "59895323",
   "metadata": {},
   "outputs": [],
   "source": [
    "# средний запас сырья по регионам\n",
    "def mean_value(df,name):\n",
    "    mean_value = df['product'].mean()\n",
    "    print(f'Средний запас сырья {names_2[name]}: {mean_value:.1f} тыс. баррелей')\n",
    "    print(f'Процент скважин с объемом сырья больше, чем пороговое значение: \\\n",
    "{len(df.query(\"product>@lossfree_value\"))/len(df):.2%}\\n')"
   ]
  },
  {
   "cell_type": "code",
   "execution_count": 19,
   "id": "8a39729b",
   "metadata": {},
   "outputs": [
    {
     "name": "stdout",
     "output_type": "stream",
     "text": [
      "Средний запас сырья в первом регионе: 92.5 тыс. баррелей\n",
      "Процент скважин с объемом сырья больше, чем пороговое значение: 36.58%\n",
      "\n",
      "Средний запас сырья во втором регионе: 68.8 тыс. баррелей\n",
      "Процент скважин с объемом сырья больше, чем пороговое значение: 16.54%\n",
      "\n",
      "Средний запас сырья в третьем регионе: 95.0 тыс. баррелей\n",
      "Процент скважин с объемом сырья больше, чем пороговое значение: 38.18%\n",
      "\n"
     ]
    }
   ],
   "source": [
    "for i in range(3):\n",
    "    mean_value(data[i], names[i])"
   ]
  },
  {
   "cell_type": "markdown",
   "id": "4ca7b2ce",
   "metadata": {},
   "source": [
    "<h3>Вывод"
   ]
  },
  {
   "cell_type": "markdown",
   "id": "3085baf6",
   "metadata": {},
   "source": [
    "Объем нефти в скважине, требуемый для безубыточной разработки, равен 111.1 тыс. баррелей. "
   ]
  },
  {
   "cell_type": "markdown",
   "id": "7eb3ab3c",
   "metadata": {},
   "source": [
    "Среднее значение запасов в регионах находится в диапазоне от 68.8 до 95 тыс. баррелей, а процент скважин с запасами сырья выше пороговой величины в 111.1 тыс.барелей в регионах не превышает 40%.\n",
    "\n",
    "Чтобы понять, какой из регионов сможет окупиться, применим технику `bootstrap` - сгенерируем 1000 подвыборок с помощью семплирования с возвращением. Случайным образом отберем точки, выделим из них 200 с лучшими предскзаниями сырья и, посчитав финансовый результат работы в них, оценим прибыль и риски работы в регионе."
   ]
  },
  {
   "cell_type": "markdown",
   "id": "b4c45ab8",
   "metadata": {},
   "source": [
    "<a id='4'></a>"
   ]
  },
  {
   "cell_type": "markdown",
   "id": "440df7ea",
   "metadata": {},
   "source": [
    "<h2> Расчёт прибыли по выбранным скважинам и предсказаниям модели"
   ]
  },
  {
   "cell_type": "markdown",
   "id": "b798d2df",
   "metadata": {},
   "source": [
    "Расчитаем прибыль по скважинам с максимальным запасом. \n",
    "\n",
    "Напишем функцию, которая:\n",
    "\n",
    "- Выберет скважины с максимальными значениями предсказаний\n",
    "\n",
    "- Просуммирует целевое значение объёма сырья, соответствующее этим предсказаниям\n",
    "\n",
    "- Рассчитает прибыль для полученного объёма сырья"
   ]
  },
  {
   "cell_type": "code",
   "execution_count": 20,
   "id": "392e5eef",
   "metadata": {},
   "outputs": [],
   "source": [
    "products = []\n",
    "revenues = []\n",
    "def profit(target, probs):\n",
    "    predict_sorted = probs.sort_values(ascending=False)[:BEST_POINTS]\n",
    "    selected = target[predict_sorted.index]\n",
    "    product = selected.sum()    \n",
    "    products.append(product)\n",
    "    revenue = (product*UNIT_BARREL)-BUDGET\n",
    "    revenues.append(revenue)\n",
    "    return revenue"
   ]
  },
  {
   "cell_type": "code",
   "execution_count": 21,
   "id": "bd77ea2d",
   "metadata": {},
   "outputs": [
    {
     "name": "stdout",
     "output_type": "stream",
     "text": [
      "Суммарный запас сырья в 200 лучших скважинах в первом регионе составит: 29700.4 тыс.баррелей\n",
      "Средняя прибыль с 200 лучших скважин в первом регионе для полученного сырья: 3.37 млрд. рублей\n",
      "\n",
      "Суммарный запас сырья в 200 лучших скважинах во втором регионе составит: 27589.1 тыс.баррелей\n",
      "Средняя прибыль с 200 лучших скважин во втором регионе для полученного сырья: 2.42 млрд. рублей\n",
      "\n",
      "Суммарный запас сырья в 200 лучших скважинах в третьем регионе составит: 27684.7 тыс.баррелей\n",
      "Средняя прибыль с 200 лучших скважин в третьем регионе для полученного сырья: 2.46 млрд. рублей\n",
      "\n"
     ]
    }
   ],
   "source": [
    "for i in range(3):\n",
    "    for name in names:\n",
    "        profit(targets[name][0], targets[name][1])\n",
    "    print(f'Суммарный запас сырья в 200 лучших скважинах \\\n",
    "{names_3[i]} составит: {products[i]:.1f} тыс.баррелей')\n",
    "    print(f'Средняя прибыль с 200 лучших скважин {names_3[i]} \\\n",
    "для полученного сырья: {revenues[i]/10e8:.2f} млрд. рублей\\n')"
   ]
  },
  {
   "cell_type": "markdown",
   "id": "9a9c2b9b",
   "metadata": {},
   "source": [
    "<h3>Вывод"
   ]
  },
  {
   "cell_type": "markdown",
   "id": "4d7637ca",
   "metadata": {},
   "source": [
    "Сделав расчёты мы узнали, что скважины с максимальным значением предсказаний в каждом регионе потенциально прибыльный. Самым перспективным выглядит первый регион."
   ]
  },
  {
   "cell_type": "markdown",
   "id": "fa3a7ee2",
   "metadata": {},
   "source": [
    "<a id='5'></a>"
   ]
  },
  {
   "cell_type": "markdown",
   "id": "4f6f9807",
   "metadata": {},
   "source": [
    "<h2>Риски и прибыль"
   ]
  },
  {
   "cell_type": "markdown",
   "id": "9711fd40",
   "metadata": {},
   "source": [
    "Найдем распределение прибыли, применив технику Bootstrap с 1000 выборками. Также выведем значения средней прибыли, 95%-й доверительный интервал и риск убытков."
   ]
  },
  {
   "cell_type": "code",
   "execution_count": 22,
   "id": "fb90af42",
   "metadata": {},
   "outputs": [
    {
     "data": {
      "image/png": "[encoded data removed]",
      "text/plain": [
       "<Figure size 1200x400 with 1 Axes>"
      ]
     },
     "metadata": {},
     "output_type": "display_data"
    },
    {
     "name": "stdout",
     "output_type": "stream",
     "text": [
      "Средняя прибыль: 598 млн. руб.\n",
      "95%-й доверительный интервал от -4 млн. руб. до 1255 млн. руб.\n",
      "Процент риска убытков: 2.6%\n"
     ]
    },
    {
     "data": {
      "image/png": "[encoded data removed]",
      "text/plain": [
       "<Figure size 1200x400 with 1 Axes>"
      ]
     },
     "metadata": {},
     "output_type": "display_data"
    },
    {
     "name": "stdout",
     "output_type": "stream",
     "text": [
      "Средняя прибыль: 645 млн. руб.\n",
      "95%-й доверительный интервал от 164 млн. руб. до 1193 млн. руб.\n",
      "Процент риска убытков: 0.2%\n"
     ]
    },
    {
     "data": {
      "image/png": "[encoded data removed]",
      "text/plain": [
       "<Figure size 1200x400 with 1 Axes>"
      ]
     },
     "metadata": {},
     "output_type": "display_data"
    },
    {
     "name": "stdout",
     "output_type": "stream",
     "text": [
      "Средняя прибыль: 659 млн. руб.\n",
      "95%-й доверительный интервал от 9 млн. руб. до 1278 млн. руб.\n",
      "Процент риска убытков: 1.9%\n"
     ]
    }
   ],
   "source": [
    "colors = {'df1':'#A18594', 'df2':'#FFB28B', 'df3':'#AFCBFF'}\n",
    "\n",
    "for name in names:\n",
    "    values = []\n",
    "    # bootstrap\n",
    "    for i in range(1000):\n",
    "        valid_subsample = targets[name][0].sample(POINTS, \n",
    "                                                  replace=True, \n",
    "                                                  random_state=RANDOM_STATE)\n",
    "        predicts_subsample = targets[name][1][valid_subsample.index]\n",
    "        values.append(profit(valid_subsample, predicts_subsample))\n",
    "    #расчеты    \n",
    "    values = pd.Series(values)    \n",
    "    mean = values.mean()/10e5\n",
    "    lower = values.quantile(0.025)/10e5\n",
    "    upper = values.quantile(0.975)/10e5\n",
    "    # график\n",
    "    plt.axvspan(values.quantile(.025), values.quantile(.975), color='#A2BFAF', alpha=0.5)\n",
    "    values.hist(figsize=(12,4), color=colors[name], bins=40)\n",
    "    plt.axvline(values.quantile(.025), \n",
    "                color='indianred', \n",
    "                linewidth=3)\n",
    "    plt.axvline(values.quantile(.975), \n",
    "                color='royalblue', \n",
    "                linewidth=3)\n",
    "    plt.legend(['Начало доверительного интервала', \n",
    "                'Конец доверительного интервала'])\n",
    "    plt.title(f'Распределине прибыли {names_2[name]}')\n",
    "    plt.xlabel('Прибыль, млрд.руб')\n",
    "    plt.ylabel('Количество скважин')\n",
    "    plt.show()\n",
    "    # значения\n",
    "    print(f'Средняя прибыль: {mean:.0f} млн. руб.')\n",
    "    print(f'95%-й доверительный интервал от {lower:.0f} млн. руб. \\\n",
    "до {upper:.0f} млн. руб.')\n",
    "    print(f'Процент риска убытков: {(values < 0).mean():.1%}')"
   ]
  },
  {
   "cell_type": "markdown",
   "id": "af02f3dd",
   "metadata": {},
   "source": [
    "<h3> Вывод"
   ]
  },
  {
   "cell_type": "markdown",
   "id": "9f28434d",
   "metadata": {},
   "source": [
    "Лучше всего себя показывает второй регион со средней прибылью в 645 млн.рублей и почти нулевым(0.2%) риском убытков. Его доверительный интервал - от 164 млн. руб. до 1193 млн. руб. \n",
    "\n",
    "Также стоит обратить внимание на третий регоин с процентом  риска убытков в 1.9% и средней прибылью в 659 млн.рублей."
   ]
  },
  {
   "cell_type": "markdown",
   "id": "1b6d3995",
   "metadata": {},
   "source": [
    "<a id='6'></a>"
   ]
  },
  {
   "cell_type": "markdown",
   "id": "3f03a96d",
   "metadata": {},
   "source": [
    "<h2> Выводы"
   ]
  },
  {
   "cell_type": "markdown",
   "id": "c6b279e3",
   "metadata": {},
   "source": [
    "<h3> Цель проекта"
   ]
  },
  {
   "cell_type": "markdown",
   "id": "20436778",
   "metadata": {},
   "source": [
    "Найти и предложить наиболее выгодные по прибыли и риску регионы для разработки скважин."
   ]
  },
  {
   "cell_type": "markdown",
   "id": "ac231462",
   "metadata": {},
   "source": [
    "<h3> Исходные данные"
   ]
  },
  {
   "cell_type": "markdown",
   "id": "df54fded",
   "metadata": {},
   "source": [
    "**Признаки**\n",
    "- `id` — уникальный идентификатор скважины\n",
    "- `f0, f1, f2` — три признака точек\n",
    "\n",
    "**Целевой признак**\n",
    "- `product` — объём запасов в скважине (тыс. баррелей)"
   ]
  },
  {
   "cell_type": "markdown",
   "id": "ef3ac6f2",
   "metadata": {},
   "source": [
    "<h3> Выводы"
   ]
  },
  {
   "cell_type": "markdown",
   "id": "676d876f",
   "metadata": {},
   "source": [
    "Перед работой с данными мы изучили содержание и распределение в каждом из датасетов, выявив следующее:\n",
    "- Дубликаты отсутствуют\n",
    "- Пропуски отсутствуют\n",
    "- Присутствует проблема мультиколлинеарности\n",
    "- Большой разброс значений стандартного отклонения у признаков f0, f1 и f2\n",
    "- Распредление значений `product` для первого и третьего регионов схожи, тогда как для второго оно сильно отличается"
   ]
  },
  {
   "cell_type": "markdown",
   "id": "f1c3c1af",
   "metadata": {},
   "source": [
    "---"
   ]
  },
  {
   "cell_type": "markdown",
   "id": "b88ffb84",
   "metadata": {},
   "source": [
    "При подготовке данных мы:\n",
    "- Удалили столбец `id` в каждом датасете\n",
    "- Создали тренировочную и валидационную выборки в соотношении 75:25\n",
    "- Обучили модель `LinearRegression()` на тренировочной выборке, сделали предсказания на валидационной выборке и сохранили их в словарь вместе с правильными ответами\n",
    "- Посчитали предсказанный средний запас сырья, фактический средний запас сырья и `RMSE`модели\n",
    "- Выявили, что `RMSE` выдает довольно высокие значения для df1 и df3"
   ]
  },
  {
   "cell_type": "markdown",
   "id": "16ffb4c0",
   "metadata": {},
   "source": [
    "---"
   ]
  },
  {
   "cell_type": "markdown",
   "id": "52951361",
   "metadata": {},
   "source": [
    "В ходе решения задачи мы:\n",
    "- Установили средний объем нефти в скважине, требуемый для безубыточной разработки: 111.1 тыс. баррелей\n",
    "- Сравнили средний запас нефти в регионах с пороговым значением для безубыточной работы\n",
    "- Выбрали скважины с максимальными значениями предсказаний, рассчитали прибыль по ним и предсказаниям модели. Увидели, что разработка выбранных скважин в каждом регионе прибыльна\n",
    "- Применив технику `bootstrap`, вычислили распределение прибли. Нашли среднюю прибыль, 95%-й доверительный квартал и риск убытков для каждого региона\n",
    "- Лучше всего себя показывают второй регион со средней прибылью в 645 млн.рублей и почти нулевым(0.2%) риском убытков и третий регион со средней прибылью 659 млн. рублей и процентом риска убытков в 1.9%."
   ]
  },
  {
   "cell_type": "markdown",
   "id": "36bf862a",
   "metadata": {},
   "source": [
    "---"
   ]
  },
  {
   "cell_type": "markdown",
   "id": "2e0bb39b",
   "metadata": {},
   "source": [
    "Рекомендации бизнесу:\n",
    "\n",
    "*На основе проведенной работы, можно порекомендовать компании «ГлавРосГосНефть» выбрать ***второй и третий регионы*** для бурения новой скважины, так как данные локации являетсю самыми потенциально прибыльными и окупаемыми - процент риска убытков ниже 2.5% и средняя прибыль составляет 645 и 659 млн.руб. соответственно*"
   ]
  },
  {
   "cell_type": "markdown",
   "id": "135137d7",
   "metadata": {},
   "source": [
    "<div style=\"border:solid Chocolate 2px; padding: 40px\">\n",
    "\n",
    "# Комментарий ревьюера: общий вывод по проекту.\n",
    "\n",
    "Демьян, проект получился на довольно хорошем уровне - отличная работа над проектом, молодец!\n",
    "\n",
    "Мне нравится твой аналитический подход к выполнению проекта, ты соблюдаешь структуру работы, выполняешь её последовательно - это очень хорошо! Шаги проекта выполнены по порядку согласно плану проекта, нет смысловых и структурных ям. Важно, что не забываешь про выводы.\n",
    "    \n",
    "Отмечу отличный уровень аналитики данных в проекте: при знакомстве с данными были рассмотрены все ключевые моменты, на которые стоит обращать внимание при работе с линйной моделью. Положительно также отмечу автоматизацию повтояющихся операций, а также корректный процесс оценки прибыли и рисков техникой бутстрапа - молодец, что не запутался в этом непростом процессе.\n",
    "    \n",
    "Над проектом ещё стоит поработать - есть рекомендации по дополнению некоторых твоих шагов проекта. Такие рекомендации я отметил жёлтыми комментариями. Будет здорово, если ты учтёшь их - так проект станет структурно и содержательно более совершенным.\n",
    "    \n",
    "Также в работе есть критические замечания. К этим замечаниям я оставил пояснительные комментарии красного цвета, в которых перечислил возможные варианты дальнейших действий. Уверен, ты быстро с этим управишься:)\n",
    "    \n",
    "Если о том, что нужно сделать в рамках комментариев, будут возникать вопросы - оставь их, пожалуйста, в комментариях, и я отвечу на них во время следующего ревью.\n",
    "    \n",
    "Также буду рад ответить на любые твои вопросы по проекту или на какие-либо другие, если они у тебя имеются - оставь их в комментариях, и я постараюсь ответить:)\n",
    "    \n",
    "Жду твой проект на повторном ревью. До встречи:)"
   ]
  },
  {
   "cell_type": "markdown",
   "id": "507a0a04",
   "metadata": {},
   "source": [
    "<div class=\"alert alert-info\">\n",
    "<h2> Комментарий студента <a class=\"tocSkip\"> </h2>\n",
    "  \n",
    "Привет! \n",
    "    \n",
    "Большое спасибо за фидбэк. Все оставленные тобой моменты поправил и отметил это комментарием.\n",
    "    </div>"
   ]
  },
  {
   "cell_type": "markdown",
   "id": "45c08a86",
   "metadata": {},
   "source": [
    "<div style=\"border:solid Chocolate 2px; padding: 40px\">\n",
    "\n",
    "# Комментарий ревьюера: общий вывод по проекту v.2.\n",
    "\n",
    "Демьян, все замечания учтены - проект принят!\n",
    "    \n",
    "Спасибо за хорошую работу над проектом, желаю успехов в дальнейшем обучении:)"
   ]
  }
 ],
 "metadata": {
  "ExecuteTimeLog": [
   {
    "duration": 1828,
    "start_time": "2023-07-30T07:36:21.843Z"
   },
   {
    "duration": 890,
    "start_time": "2023-07-30T07:36:23.673Z"
   },
   {
    "duration": 5,
    "start_time": "2023-07-30T07:36:24.565Z"
   },
   {
    "duration": 832,
    "start_time": "2023-07-30T07:36:24.573Z"
   },
   {
    "duration": 824,
    "start_time": "2023-07-30T07:36:25.407Z"
   },
   {
    "duration": 828,
    "start_time": "2023-07-30T07:36:26.233Z"
   },
   {
    "duration": 225,
    "start_time": "2023-07-30T07:36:27.062Z"
   },
   {
    "duration": 34,
    "start_time": "2023-07-30T07:36:27.289Z"
   },
   {
    "duration": 9,
    "start_time": "2023-07-30T07:36:27.325Z"
   },
   {
    "duration": 7,
    "start_time": "2023-07-30T07:36:27.351Z"
   },
   {
    "duration": 496,
    "start_time": "2023-07-30T07:36:27.359Z"
   },
   {
    "duration": 3,
    "start_time": "2023-07-30T07:36:27.857Z"
   },
   {
    "duration": 102,
    "start_time": "2023-07-30T07:36:27.862Z"
   },
   {
    "duration": 7,
    "start_time": "2023-07-30T07:36:27.966Z"
   },
   {
    "duration": 26,
    "start_time": "2023-07-30T07:36:27.975Z"
   },
   {
    "duration": 4,
    "start_time": "2023-07-30T07:36:28.003Z"
   },
   {
    "duration": 43,
    "start_time": "2023-07-30T07:36:28.008Z"
   },
   {
    "duration": 4,
    "start_time": "2023-07-30T07:36:47.400Z"
   },
   {
    "duration": 11,
    "start_time": "2023-07-30T07:36:52.560Z"
   },
   {
    "duration": 7,
    "start_time": "2023-07-30T07:36:57.240Z"
   },
   {
    "duration": 8,
    "start_time": "2023-07-30T07:37:08.362Z"
   },
   {
    "duration": 8,
    "start_time": "2023-07-30T07:37:11.851Z"
   },
   {
    "duration": 5009,
    "start_time": "2023-07-30T07:38:25.863Z"
   },
   {
    "duration": 4,
    "start_time": "2023-07-30T07:39:06.778Z"
   },
   {
    "duration": 4,
    "start_time": "2023-07-30T07:39:11.268Z"
   },
   {
    "duration": 5,
    "start_time": "2023-07-30T07:39:15.048Z"
   },
   {
    "duration": 7,
    "start_time": "2023-07-30T07:39:44.268Z"
   },
   {
    "duration": 7,
    "start_time": "2023-07-30T07:39:47.884Z"
   },
   {
    "duration": 7,
    "start_time": "2023-07-30T07:39:49.954Z"
   },
   {
    "duration": 4,
    "start_time": "2023-07-30T07:40:02.033Z"
   },
   {
    "duration": 123,
    "start_time": "2023-07-30T07:40:06.409Z"
   },
   {
    "duration": 6,
    "start_time": "2023-07-30T07:40:09.229Z"
   },
   {
    "duration": 6,
    "start_time": "2023-07-30T07:40:14.089Z"
   },
   {
    "duration": 5,
    "start_time": "2023-07-30T07:41:09.613Z"
   },
   {
    "duration": 449,
    "start_time": "2023-07-30T07:41:09.621Z"
   },
   {
    "duration": 6,
    "start_time": "2023-07-30T07:41:10.072Z"
   },
   {
    "duration": 752,
    "start_time": "2023-07-30T07:41:10.079Z"
   },
   {
    "duration": 911,
    "start_time": "2023-07-30T07:41:10.834Z"
   },
   {
    "duration": 760,
    "start_time": "2023-07-30T07:41:11.752Z"
   },
   {
    "duration": 230,
    "start_time": "2023-07-30T07:41:12.514Z"
   },
   {
    "duration": 39,
    "start_time": "2023-07-30T07:41:12.746Z"
   },
   {
    "duration": 10,
    "start_time": "2023-07-30T07:41:12.787Z"
   },
   {
    "duration": 9,
    "start_time": "2023-07-30T07:41:12.800Z"
   },
   {
    "duration": 350,
    "start_time": "2023-07-30T07:41:12.812Z"
   },
   {
    "duration": 3,
    "start_time": "2023-07-30T07:41:13.164Z"
   },
   {
    "duration": 4,
    "start_time": "2023-07-30T07:41:13.253Z"
   },
   {
    "duration": 15,
    "start_time": "2023-07-30T07:41:13.260Z"
   },
   {
    "duration": 28,
    "start_time": "2023-07-30T07:41:13.276Z"
   },
   {
    "duration": 8,
    "start_time": "2023-07-30T07:41:13.306Z"
   },
   {
    "duration": 50,
    "start_time": "2023-07-30T07:41:13.316Z"
   },
   {
    "duration": 4,
    "start_time": "2023-07-30T07:41:13.368Z"
   },
   {
    "duration": 20,
    "start_time": "2023-07-30T07:41:13.374Z"
   },
   {
    "duration": 12,
    "start_time": "2023-07-30T07:41:13.396Z"
   },
   {
    "duration": 22,
    "start_time": "2023-07-30T07:41:13.410Z"
   },
   {
    "duration": 22,
    "start_time": "2023-07-30T07:41:13.434Z"
   },
   {
    "duration": 5030,
    "start_time": "2023-07-30T07:41:13.459Z"
   },
   {
    "duration": 1377,
    "start_time": "2023-07-30T07:42:37.115Z"
   },
   {
    "duration": 456,
    "start_time": "2023-07-30T07:42:38.496Z"
   },
   {
    "duration": 8,
    "start_time": "2023-07-30T07:42:38.954Z"
   },
   {
    "duration": 785,
    "start_time": "2023-07-30T07:42:38.963Z"
   },
   {
    "duration": 787,
    "start_time": "2023-07-30T07:42:39.752Z"
   },
   {
    "duration": 867,
    "start_time": "2023-07-30T07:42:40.541Z"
   },
   {
    "duration": 254,
    "start_time": "2023-07-30T07:42:41.410Z"
   },
   {
    "duration": 49,
    "start_time": "2023-07-30T07:42:41.666Z"
   },
   {
    "duration": 4,
    "start_time": "2023-07-30T07:42:41.718Z"
   },
   {
    "duration": 34,
    "start_time": "2023-07-30T07:42:41.724Z"
   },
   {
    "duration": 591,
    "start_time": "2023-07-30T07:42:41.760Z"
   },
   {
    "duration": 6,
    "start_time": "2023-07-30T07:42:42.357Z"
   },
   {
    "duration": 8,
    "start_time": "2023-07-30T07:42:42.452Z"
   },
   {
    "duration": 8,
    "start_time": "2023-07-30T07:42:42.462Z"
   },
   {
    "duration": 24,
    "start_time": "2023-07-30T07:42:42.471Z"
   },
   {
    "duration": 4,
    "start_time": "2023-07-30T07:42:42.496Z"
   },
   {
    "duration": 57,
    "start_time": "2023-07-30T07:42:42.502Z"
   },
   {
    "duration": 4858,
    "start_time": "2023-07-30T07:42:42.561Z"
   }
  ],
  "kernelspec": {
   "display_name": "Python 3 (ipykernel)",
   "language": "python",
   "name": "python3"
  },
  "language_info": {
   "codemirror_mode": {
    "name": "ipython",
    "version": 3
   },
   "file_extension": ".py",
   "mimetype": "text/x-python",
   "name": "python",
   "nbconvert_exporter": "python",
   "pygments_lexer": "ipython3",
   "version": "3.11.6"
  },
  "toc": {
   "base_numbering": 1,
   "nav_menu": {},
   "number_sections": true,
   "sideBar": true,
   "skip_h1_title": true,
   "title_cell": "",
   "title_sidebar": "",
   "toc_cell": false,
   "toc_position": {
    "height": "calc(100% - 180px)",
    "left": "10px",
    "top": "150px",
    "width": "165px"
   },
   "toc_section_display": true,
   "toc_window_display": true
  }
 },
 "nbformat": 4,
 "nbformat_minor": 5
}
